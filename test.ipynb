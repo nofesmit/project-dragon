{
 "cells": [
  {
   "cell_type": "code",
   "execution_count": 1,
   "metadata": {},
   "outputs": [
    {
     "data": {
      "text/html": [
       "<div>\n",
       "<style scoped>\n",
       "    .dataframe tbody tr th:only-of-type {\n",
       "        vertical-align: middle;\n",
       "    }\n",
       "\n",
       "    .dataframe tbody tr th {\n",
       "        vertical-align: top;\n",
       "    }\n",
       "\n",
       "    .dataframe thead th {\n",
       "        text-align: right;\n",
       "    }\n",
       "</style>\n",
       "<table border=\"1\" class=\"dataframe\">\n",
       "  <thead>\n",
       "    <tr style=\"text-align: right;\">\n",
       "      <th></th>\n",
       "      <th>ID</th>\n",
       "      <th>partner</th>\n",
       "      <th>bizonylat_szam</th>\n",
       "      <th>megjegyzes</th>\n",
       "      <th>datum</th>\n",
       "      <th>netto</th>\n",
       "      <th>kat_kod</th>\n",
       "      <th>fo_kat</th>\n",
       "      <th>forras</th>\n",
       "      <th>kategoria</th>\n",
       "      <th>alkategoria</th>\n",
       "      <th>elem</th>\n",
       "      <th>year</th>\n",
       "      <th>month</th>\n",
       "      <th>quarter</th>\n",
       "      <th>month_year</th>\n",
       "    </tr>\n",
       "  </thead>\n",
       "  <tbody>\n",
       "    <tr>\n",
       "      <th>0</th>\n",
       "      <td>2296.0</td>\n",
       "      <td>bank ktg</td>\n",
       "      <td>Könyvelésből</td>\n",
       "      <td>bank ktg</td>\n",
       "      <td>2022-01-01</td>\n",
       "      <td>456552.75</td>\n",
       "      <td>U27</td>\n",
       "      <td>1.0</td>\n",
       "      <td>Bank</td>\n",
       "      <td>Üzemeltetés</td>\n",
       "      <td>Bank</td>\n",
       "      <td>Bank</td>\n",
       "      <td>2022</td>\n",
       "      <td>1</td>\n",
       "      <td>1</td>\n",
       "      <td>2022-01</td>\n",
       "    </tr>\n",
       "    <tr>\n",
       "      <th>1</th>\n",
       "      <td>3128.0</td>\n",
       "      <td>TLT Telecom Kft</td>\n",
       "      <td>2022/K-000272/000</td>\n",
       "      <td>internet ktg</td>\n",
       "      <td>2022-01-01</td>\n",
       "      <td>8500.00</td>\n",
       "      <td>U21</td>\n",
       "      <td>1.0</td>\n",
       "      <td>Bank</td>\n",
       "      <td>Üzemeltetés</td>\n",
       "      <td>IT</td>\n",
       "      <td>Üzemeltetési</td>\n",
       "      <td>2022</td>\n",
       "      <td>1</td>\n",
       "      <td>1</td>\n",
       "      <td>2022-01</td>\n",
       "    </tr>\n",
       "    <tr>\n",
       "      <th>2</th>\n",
       "      <td>3221.0</td>\n",
       "      <td>VOIZ Zrt.</td>\n",
       "      <td>E-VOIZ-2022-63</td>\n",
       "      <td>PROGRAM BÉRLETI DÍJ</td>\n",
       "      <td>2022-01-01</td>\n",
       "      <td>3142.00</td>\n",
       "      <td>U21</td>\n",
       "      <td>1.0</td>\n",
       "      <td>Bank</td>\n",
       "      <td>Üzemeltetés</td>\n",
       "      <td>IT</td>\n",
       "      <td>Üzemeltetési</td>\n",
       "      <td>2022</td>\n",
       "      <td>1</td>\n",
       "      <td>1</td>\n",
       "      <td>2022-01</td>\n",
       "    </tr>\n",
       "    <tr>\n",
       "      <th>3</th>\n",
       "      <td>2263.0</td>\n",
       "      <td>Autóflotta Kft</td>\n",
       "      <td>AF-KS2230131</td>\n",
       "      <td>autó bérletidíj -RCT</td>\n",
       "      <td>2022-01-03</td>\n",
       "      <td>109134.00</td>\n",
       "      <td>X01</td>\n",
       "      <td>1.0</td>\n",
       "      <td>Bank</td>\n",
       "      <td>2. kat</td>\n",
       "      <td>Egyéb</td>\n",
       "      <td>Zoli privát</td>\n",
       "      <td>2022</td>\n",
       "      <td>1</td>\n",
       "      <td>1</td>\n",
       "      <td>2022-01</td>\n",
       "    </tr>\n",
       "    <tr>\n",
       "      <th>4</th>\n",
       "      <td>2264.0</td>\n",
       "      <td>Autóflotta Kft</td>\n",
       "      <td>AF-KS2230132</td>\n",
       "      <td>autó bérletidíj RFL</td>\n",
       "      <td>2022-01-03</td>\n",
       "      <td>189580.00</td>\n",
       "      <td>U01</td>\n",
       "      <td>1.0</td>\n",
       "      <td>Bank</td>\n",
       "      <td>Üzemeltetés</td>\n",
       "      <td>Cégautó</td>\n",
       "      <td>Bérleti díj</td>\n",
       "      <td>2022</td>\n",
       "      <td>1</td>\n",
       "      <td>1</td>\n",
       "      <td>2022-01</td>\n",
       "    </tr>\n",
       "    <tr>\n",
       "      <th>...</th>\n",
       "      <td>...</td>\n",
       "      <td>...</td>\n",
       "      <td>...</td>\n",
       "      <td>...</td>\n",
       "      <td>...</td>\n",
       "      <td>...</td>\n",
       "      <td>...</td>\n",
       "      <td>...</td>\n",
       "      <td>...</td>\n",
       "      <td>...</td>\n",
       "      <td>...</td>\n",
       "      <td>...</td>\n",
       "      <td>...</td>\n",
       "      <td>...</td>\n",
       "      <td>...</td>\n",
       "      <td>...</td>\n",
       "    </tr>\n",
       "    <tr>\n",
       "      <th>3345</th>\n",
       "      <td>NaN</td>\n",
       "      <td>Kiskassza</td>\n",
       "      <td></td>\n",
       "      <td>Lidl Magyarország Bt.</td>\n",
       "      <td>2022-07-01</td>\n",
       "      <td>4914.00</td>\n",
       "      <td>H01</td>\n",
       "      <td>hiányos</td>\n",
       "      <td>KP02</td>\n",
       "      <td>HR</td>\n",
       "      <td>Juttatás</td>\n",
       "      <td>Élelmiszer</td>\n",
       "      <td>2022</td>\n",
       "      <td>7</td>\n",
       "      <td>3</td>\n",
       "      <td>2022-07</td>\n",
       "    </tr>\n",
       "    <tr>\n",
       "      <th>3346</th>\n",
       "      <td>NaN</td>\n",
       "      <td>Kiskassza</td>\n",
       "      <td></td>\n",
       "      <td>Lidl Magyarország Bt.</td>\n",
       "      <td>2022-07-01</td>\n",
       "      <td>4091.00</td>\n",
       "      <td>H01</td>\n",
       "      <td>hiányos</td>\n",
       "      <td>KP02</td>\n",
       "      <td>HR</td>\n",
       "      <td>Juttatás</td>\n",
       "      <td>Élelmiszer</td>\n",
       "      <td>2022</td>\n",
       "      <td>7</td>\n",
       "      <td>3</td>\n",
       "      <td>2022-07</td>\n",
       "    </tr>\n",
       "    <tr>\n",
       "      <th>3347</th>\n",
       "      <td>NaN</td>\n",
       "      <td>Kiskassza</td>\n",
       "      <td></td>\n",
       "      <td>Lidl Magyarország Bt.</td>\n",
       "      <td>2022-07-01</td>\n",
       "      <td>1683.00</td>\n",
       "      <td>H01</td>\n",
       "      <td>hiányos</td>\n",
       "      <td>KP02</td>\n",
       "      <td>HR</td>\n",
       "      <td>Juttatás</td>\n",
       "      <td>Élelmiszer</td>\n",
       "      <td>2022</td>\n",
       "      <td>7</td>\n",
       "      <td>3</td>\n",
       "      <td>2022-07</td>\n",
       "    </tr>\n",
       "    <tr>\n",
       "      <th>3348</th>\n",
       "      <td>NaN</td>\n",
       "      <td>Kiskassza</td>\n",
       "      <td></td>\n",
       "      <td>Lidl Magyarország Bt.</td>\n",
       "      <td>2022-07-01</td>\n",
       "      <td>1254.00</td>\n",
       "      <td>H01</td>\n",
       "      <td>hiányos</td>\n",
       "      <td>KP02</td>\n",
       "      <td>HR</td>\n",
       "      <td>Juttatás</td>\n",
       "      <td>Élelmiszer</td>\n",
       "      <td>2022</td>\n",
       "      <td>7</td>\n",
       "      <td>3</td>\n",
       "      <td>2022-07</td>\n",
       "    </tr>\n",
       "    <tr>\n",
       "      <th>3349</th>\n",
       "      <td>NaN</td>\n",
       "      <td>Kiskassza</td>\n",
       "      <td></td>\n",
       "      <td>ERDŐS NORBERT - ARBORÉTUMI NYARALÓ SZARVAS</td>\n",
       "      <td>2022-06-01</td>\n",
       "      <td>257500.00</td>\n",
       "      <td>H04</td>\n",
       "      <td>hiányos</td>\n",
       "      <td>KP02</td>\n",
       "      <td>HR</td>\n",
       "      <td>Juttatás</td>\n",
       "      <td>Csapatépítő</td>\n",
       "      <td>2022</td>\n",
       "      <td>6</td>\n",
       "      <td>2</td>\n",
       "      <td>2022-06</td>\n",
       "    </tr>\n",
       "  </tbody>\n",
       "</table>\n",
       "<p>3350 rows × 16 columns</p>\n",
       "</div>"
      ],
      "text/plain": [
       "          ID           partner     bizonylat_szam  \\\n",
       "0     2296.0          bank ktg       Könyvelésből   \n",
       "1     3128.0  TLT Telecom Kft   2022/K-000272/000   \n",
       "2     3221.0        VOIZ Zrt.      E-VOIZ-2022-63   \n",
       "3     2263.0   Autóflotta Kft        AF-KS2230131   \n",
       "4     2264.0   Autóflotta Kft        AF-KS2230132   \n",
       "...      ...               ...                ...   \n",
       "3345     NaN         Kiskassza                      \n",
       "3346     NaN         Kiskassza                      \n",
       "3347     NaN         Kiskassza                      \n",
       "3348     NaN         Kiskassza                      \n",
       "3349     NaN         Kiskassza                      \n",
       "\n",
       "                                      megjegyzes      datum      netto  \\\n",
       "0                                       bank ktg 2022-01-01  456552.75   \n",
       "1                                   internet ktg 2022-01-01    8500.00   \n",
       "2                            PROGRAM BÉRLETI DÍJ 2022-01-01    3142.00   \n",
       "3                           autó bérletidíj -RCT 2022-01-03  109134.00   \n",
       "4                            autó bérletidíj RFL 2022-01-03  189580.00   \n",
       "...                                          ...        ...        ...   \n",
       "3345                       Lidl Magyarország Bt. 2022-07-01    4914.00   \n",
       "3346                       Lidl Magyarország Bt. 2022-07-01    4091.00   \n",
       "3347                       Lidl Magyarország Bt. 2022-07-01    1683.00   \n",
       "3348                       Lidl Magyarország Bt. 2022-07-01    1254.00   \n",
       "3349  ERDŐS NORBERT - ARBORÉTUMI NYARALÓ SZARVAS 2022-06-01  257500.00   \n",
       "\n",
       "     kat_kod   fo_kat forras    kategoria alkategoria           elem  year  \\\n",
       "0        U27      1.0   Bank  Üzemeltetés        Bank           Bank  2022   \n",
       "1        U21      1.0   Bank  Üzemeltetés          IT  Üzemeltetési   2022   \n",
       "2        U21      1.0   Bank  Üzemeltetés          IT  Üzemeltetési   2022   \n",
       "3        X01      1.0   Bank       2. kat       Egyéb    Zoli privát  2022   \n",
       "4        U01      1.0   Bank  Üzemeltetés     Cégautó    Bérleti díj  2022   \n",
       "...      ...      ...    ...          ...         ...            ...   ...   \n",
       "3345     H01  hiányos   KP02           HR    Juttatás     Élelmiszer  2022   \n",
       "3346     H01  hiányos   KP02           HR    Juttatás     Élelmiszer  2022   \n",
       "3347     H01  hiányos   KP02           HR    Juttatás     Élelmiszer  2022   \n",
       "3348     H01  hiányos   KP02           HR    Juttatás     Élelmiszer  2022   \n",
       "3349     H04  hiányos   KP02           HR    Juttatás    Csapatépítő  2022   \n",
       "\n",
       "      month  quarter month_year  \n",
       "0         1        1    2022-01  \n",
       "1         1        1    2022-01  \n",
       "2         1        1    2022-01  \n",
       "3         1        1    2022-01  \n",
       "4         1        1    2022-01  \n",
       "...     ...      ...        ...  \n",
       "3345      7        3    2022-07  \n",
       "3346      7        3    2022-07  \n",
       "3347      7        3    2022-07  \n",
       "3348      7        3    2022-07  \n",
       "3349      6        2    2022-06  \n",
       "\n",
       "[3350 rows x 16 columns]"
      ]
     },
     "execution_count": 1,
     "metadata": {},
     "output_type": "execute_result"
    }
   ],
   "source": [
    "import pandas as pd\n",
    "\n",
    "df_exp_data = pd.read_excel('templates/with_data/expenses_data_template.xlsx')\n",
    "df_exp_cat = pd.read_excel('templates/with_data/expenses_category_template.xlsx')\n",
    "\n",
    "df_expense = pd.merge(df_exp_data, df_exp_cat, on='kat_kod', how='left')\n",
    "df_expense['year'] = pd.DatetimeIndex(df_expense['datum']).year\n",
    "df_expense['month'] = pd.DatetimeIndex(df_expense['datum']).month\n",
    "df_expense['quarter'] = pd.DatetimeIndex(df_expense['datum']).quarter\n",
    "df_expense['month_year'] = df_expense['datum'].dt.to_period('m')\n",
    "\n",
    "df_expense['bizonylat_szam'] = df_expense['bizonylat_szam'].apply(lambda x: str(x) if pd.notnull(x) else None)\n",
    "df_expense['bizonylat_szam'] = df_expense['bizonylat_szam'].fillna('')\n",
    "df_expense['megjegyzes'] = df_expense['megjegyzes'].apply(lambda x: str(x) if pd.notnull(x) else None)\n",
    "df_expense['megjegyzes'] = df_expense['megjegyzes'].fillna('')\n",
    "\n",
    "df_expense['kat_kod'] = df_expense['kat_kod'].apply(lambda x: str(x) if pd.notnull(x) else None)\n",
    "df_expense['kat_kod'] = df_expense['kat_kod'].fillna('hiányos')\n",
    "df_expense['fo_kat'] = pd.to_numeric(df_expense['fo_kat'], errors='coerce').fillna('hiányos').astype(str)\n",
    "df_expense['fo_kat'] = df_expense['fo_kat'].apply(lambda x: str(x) if pd.notnull(x) else None)\n",
    "df_expense['fo_kat'] = df_expense['fo_kat'].fillna('hiányos')\n",
    "df_expense['kategoria'] = df_expense['kategoria'].apply(lambda x: str(x) if pd.notnull(x) else None)\n",
    "df_expense['kategoria'] = df_expense['kategoria'].fillna('hiányos')\n",
    "df_expense['alkategoria'] = df_expense['alkategoria'].apply(lambda x: str(x) if pd.notnull(x) else None)\n",
    "df_expense['alkategoria'] = df_expense['alkategoria'].fillna('hiányos')\n",
    "df_expense['elem'] = df_expense['elem'].apply(lambda x: str(x) if pd.notnull(x) else None)\n",
    "df_expense['elem'] = df_expense['elem'].fillna('hiányos')\n",
    "df_expense"
   ]
  },
  {
   "cell_type": "code",
   "execution_count": 12,
   "metadata": {},
   "outputs": [
    {
     "data": {
      "text/html": [
       "<div>\n",
       "<style scoped>\n",
       "    .dataframe tbody tr th:only-of-type {\n",
       "        vertical-align: middle;\n",
       "    }\n",
       "\n",
       "    .dataframe tbody tr th {\n",
       "        vertical-align: top;\n",
       "    }\n",
       "\n",
       "    .dataframe thead th {\n",
       "        text-align: right;\n",
       "    }\n",
       "</style>\n",
       "<table border=\"1\" class=\"dataframe\">\n",
       "  <thead>\n",
       "    <tr style=\"text-align: right;\">\n",
       "      <th></th>\n",
       "      <th>netto</th>\n",
       "    </tr>\n",
       "    <tr>\n",
       "      <th>month_year</th>\n",
       "      <th></th>\n",
       "    </tr>\n",
       "  </thead>\n",
       "  <tbody>\n",
       "    <tr>\n",
       "      <th>2022-01</th>\n",
       "      <td>15479934.24</td>\n",
       "    </tr>\n",
       "    <tr>\n",
       "      <th>2022-02</th>\n",
       "      <td>14860156.99</td>\n",
       "    </tr>\n",
       "    <tr>\n",
       "      <th>2022-03</th>\n",
       "      <td>11982794.63</td>\n",
       "    </tr>\n",
       "    <tr>\n",
       "      <th>2022-04</th>\n",
       "      <td>10624690.35</td>\n",
       "    </tr>\n",
       "    <tr>\n",
       "      <th>2022-05</th>\n",
       "      <td>11870207.69</td>\n",
       "    </tr>\n",
       "    <tr>\n",
       "      <th>2022-06</th>\n",
       "      <td>14240106.52</td>\n",
       "    </tr>\n",
       "    <tr>\n",
       "      <th>2022-07</th>\n",
       "      <td>13948636.76</td>\n",
       "    </tr>\n",
       "    <tr>\n",
       "      <th>2022-08</th>\n",
       "      <td>22740470.01</td>\n",
       "    </tr>\n",
       "    <tr>\n",
       "      <th>2022-09</th>\n",
       "      <td>11425762.87</td>\n",
       "    </tr>\n",
       "    <tr>\n",
       "      <th>2022-10</th>\n",
       "      <td>13427622.04</td>\n",
       "    </tr>\n",
       "    <tr>\n",
       "      <th>2022-11</th>\n",
       "      <td>24629672.22</td>\n",
       "    </tr>\n",
       "    <tr>\n",
       "      <th>2022-12</th>\n",
       "      <td>48174701.84</td>\n",
       "    </tr>\n",
       "    <tr>\n",
       "      <th>2023-01</th>\n",
       "      <td>17136249.50</td>\n",
       "    </tr>\n",
       "    <tr>\n",
       "      <th>2023-02</th>\n",
       "      <td>17428850.45</td>\n",
       "    </tr>\n",
       "    <tr>\n",
       "      <th>2023-03</th>\n",
       "      <td>17895132.92</td>\n",
       "    </tr>\n",
       "    <tr>\n",
       "      <th>2023-04</th>\n",
       "      <td>16694704.53</td>\n",
       "    </tr>\n",
       "    <tr>\n",
       "      <th>2023-05</th>\n",
       "      <td>34614369.07</td>\n",
       "    </tr>\n",
       "    <tr>\n",
       "      <th>2023-06</th>\n",
       "      <td>17162927.59</td>\n",
       "    </tr>\n",
       "    <tr>\n",
       "      <th>2023-07</th>\n",
       "      <td>17852318.83</td>\n",
       "    </tr>\n",
       "    <tr>\n",
       "      <th>2023-08</th>\n",
       "      <td>17887769.86</td>\n",
       "    </tr>\n",
       "    <tr>\n",
       "      <th>2023-09</th>\n",
       "      <td>21127698.85</td>\n",
       "    </tr>\n",
       "    <tr>\n",
       "      <th>2023-10</th>\n",
       "      <td>29393568.28</td>\n",
       "    </tr>\n",
       "    <tr>\n",
       "      <th>2023-11</th>\n",
       "      <td>28644892.52</td>\n",
       "    </tr>\n",
       "    <tr>\n",
       "      <th>2023-12</th>\n",
       "      <td>28771675.16</td>\n",
       "    </tr>\n",
       "    <tr>\n",
       "      <th>2024-01</th>\n",
       "      <td>7878880.88</td>\n",
       "    </tr>\n",
       "    <tr>\n",
       "      <th>2024-02</th>\n",
       "      <td>20907367.35</td>\n",
       "    </tr>\n",
       "    <tr>\n",
       "      <th>2024-03</th>\n",
       "      <td>21966480.04</td>\n",
       "    </tr>\n",
       "    <tr>\n",
       "      <th>2024-04</th>\n",
       "      <td>19971088.50</td>\n",
       "    </tr>\n",
       "    <tr>\n",
       "      <th>2024-05</th>\n",
       "      <td>13449764.90</td>\n",
       "    </tr>\n",
       "    <tr>\n",
       "      <th>2024-06</th>\n",
       "      <td>12619887.00</td>\n",
       "    </tr>\n",
       "  </tbody>\n",
       "</table>\n",
       "</div>"
      ],
      "text/plain": [
       "                  netto\n",
       "month_year             \n",
       "2022-01     15479934.24\n",
       "2022-02     14860156.99\n",
       "2022-03     11982794.63\n",
       "2022-04     10624690.35\n",
       "2022-05     11870207.69\n",
       "2022-06     14240106.52\n",
       "2022-07     13948636.76\n",
       "2022-08     22740470.01\n",
       "2022-09     11425762.87\n",
       "2022-10     13427622.04\n",
       "2022-11     24629672.22\n",
       "2022-12     48174701.84\n",
       "2023-01     17136249.50\n",
       "2023-02     17428850.45\n",
       "2023-03     17895132.92\n",
       "2023-04     16694704.53\n",
       "2023-05     34614369.07\n",
       "2023-06     17162927.59\n",
       "2023-07     17852318.83\n",
       "2023-08     17887769.86\n",
       "2023-09     21127698.85\n",
       "2023-10     29393568.28\n",
       "2023-11     28644892.52\n",
       "2023-12     28771675.16\n",
       "2024-01      7878880.88\n",
       "2024-02     20907367.35\n",
       "2024-03     21966480.04\n",
       "2024-04     19971088.50\n",
       "2024-05     13449764.90\n",
       "2024-06     12619887.00"
      ]
     },
     "execution_count": 12,
     "metadata": {},
     "output_type": "execute_result"
    }
   ],
   "source": [
    "df_expense[['netto','month_year']].groupby('month_year').sum()"
   ]
  },
  {
   "cell_type": "code",
   "execution_count": 2,
   "metadata": {},
   "outputs": [
    {
     "data": {
      "text/html": [
       "<div>\n",
       "<style scoped>\n",
       "    .dataframe tbody tr th:only-of-type {\n",
       "        vertical-align: middle;\n",
       "    }\n",
       "\n",
       "    .dataframe tbody tr th {\n",
       "        vertical-align: top;\n",
       "    }\n",
       "\n",
       "    .dataframe thead th {\n",
       "        text-align: right;\n",
       "    }\n",
       "</style>\n",
       "<table border=\"1\" class=\"dataframe\">\n",
       "  <thead>\n",
       "    <tr style=\"text-align: right;\">\n",
       "      <th></th>\n",
       "      <th>kategoria</th>\n",
       "      <th>alkategoria</th>\n",
       "      <th>netto</th>\n",
       "    </tr>\n",
       "  </thead>\n",
       "  <tbody>\n",
       "    <tr>\n",
       "      <th>0</th>\n",
       "      <td>Üzemeltetés</td>\n",
       "      <td>Cégautó</td>\n",
       "      <td>42182966.0</td>\n",
       "    </tr>\n",
       "    <tr>\n",
       "      <th>1</th>\n",
       "      <td>Üzemeltetés</td>\n",
       "      <td>Iroda</td>\n",
       "      <td>30939633.0</td>\n",
       "    </tr>\n",
       "    <tr>\n",
       "      <th>2</th>\n",
       "      <td>Üzemeltetés</td>\n",
       "      <td>Bank</td>\n",
       "      <td>28230665.0</td>\n",
       "    </tr>\n",
       "    <tr>\n",
       "      <th>3</th>\n",
       "      <td>Üzemeltetés</td>\n",
       "      <td>IT</td>\n",
       "      <td>13470025.0</td>\n",
       "    </tr>\n",
       "    <tr>\n",
       "      <th>4</th>\n",
       "      <td>Üzemeltetés</td>\n",
       "      <td>Könyvitel</td>\n",
       "      <td>5935950.0</td>\n",
       "    </tr>\n",
       "    <tr>\n",
       "      <th>5</th>\n",
       "      <td>Üzemeltetés</td>\n",
       "      <td>Jogi  segítség</td>\n",
       "      <td>3679912.0</td>\n",
       "    </tr>\n",
       "    <tr>\n",
       "      <th>6</th>\n",
       "      <td>Üzemeltetés</td>\n",
       "      <td>Telekomunikáció</td>\n",
       "      <td>2683622.0</td>\n",
       "    </tr>\n",
       "    <tr>\n",
       "      <th>7</th>\n",
       "      <td>Üzemeltetés</td>\n",
       "      <td>Telephely</td>\n",
       "      <td>2538646.0</td>\n",
       "    </tr>\n",
       "    <tr>\n",
       "      <th>8</th>\n",
       "      <td>hiányos</td>\n",
       "      <td>hiányos</td>\n",
       "      <td>8372146.0</td>\n",
       "    </tr>\n",
       "    <tr>\n",
       "      <th>9</th>\n",
       "      <td>Vám</td>\n",
       "      <td>Teljesítési segéd</td>\n",
       "      <td>21494797.0</td>\n",
       "    </tr>\n",
       "    <tr>\n",
       "      <th>10</th>\n",
       "      <td>Szállítmányozás</td>\n",
       "      <td>Közvetített</td>\n",
       "      <td>3060211.0</td>\n",
       "    </tr>\n",
       "    <tr>\n",
       "      <th>11</th>\n",
       "      <td>Raktározás</td>\n",
       "      <td>Berendezés</td>\n",
       "      <td>4733682.0</td>\n",
       "    </tr>\n",
       "    <tr>\n",
       "      <th>12</th>\n",
       "      <td>Marketing</td>\n",
       "      <td>Honlap</td>\n",
       "      <td>2022734.0</td>\n",
       "    </tr>\n",
       "    <tr>\n",
       "      <th>13</th>\n",
       "      <td>Marketing</td>\n",
       "      <td>Brand</td>\n",
       "      <td>964261.0</td>\n",
       "    </tr>\n",
       "    <tr>\n",
       "      <th>14</th>\n",
       "      <td>HR</td>\n",
       "      <td>Bér</td>\n",
       "      <td>286576110.0</td>\n",
       "    </tr>\n",
       "    <tr>\n",
       "      <th>15</th>\n",
       "      <td>HR</td>\n",
       "      <td>Továbbképzés</td>\n",
       "      <td>3557198.0</td>\n",
       "    </tr>\n",
       "    <tr>\n",
       "      <th>16</th>\n",
       "      <td>HR</td>\n",
       "      <td>Juttatás</td>\n",
       "      <td>3554388.0</td>\n",
       "    </tr>\n",
       "    <tr>\n",
       "      <th>17</th>\n",
       "      <td>HR</td>\n",
       "      <td>Toborzás</td>\n",
       "      <td>500000.0</td>\n",
       "    </tr>\n",
       "    <tr>\n",
       "      <th>18</th>\n",
       "      <td>HR</td>\n",
       "      <td>Egészség</td>\n",
       "      <td>42456.0</td>\n",
       "    </tr>\n",
       "    <tr>\n",
       "      <th>19</th>\n",
       "      <td>Fejlesztés</td>\n",
       "      <td>MultilogIn</td>\n",
       "      <td>48392677.0</td>\n",
       "    </tr>\n",
       "    <tr>\n",
       "      <th>20</th>\n",
       "      <td>2. kat</td>\n",
       "      <td>Egyéb</td>\n",
       "      <td>61876305.0</td>\n",
       "    </tr>\n",
       "  </tbody>\n",
       "</table>\n",
       "</div>"
      ],
      "text/plain": [
       "          kategoria        alkategoria        netto\n",
       "0       Üzemeltetés            Cégautó   42182966.0\n",
       "1       Üzemeltetés              Iroda   30939633.0\n",
       "2       Üzemeltetés               Bank   28230665.0\n",
       "3       Üzemeltetés                 IT   13470025.0\n",
       "4       Üzemeltetés          Könyvitel    5935950.0\n",
       "5       Üzemeltetés     Jogi  segítség    3679912.0\n",
       "6       Üzemeltetés    Telekomunikáció    2683622.0\n",
       "7       Üzemeltetés          Telephely    2538646.0\n",
       "8           hiányos            hiányos    8372146.0\n",
       "9               Vám  Teljesítési segéd   21494797.0\n",
       "10  Szállítmányozás        Közvetített    3060211.0\n",
       "11       Raktározás         Berendezés    4733682.0\n",
       "12        Marketing             Honlap    2022734.0\n",
       "13        Marketing              Brand     964261.0\n",
       "14               HR                Bér  286576110.0\n",
       "15               HR       Továbbképzés    3557198.0\n",
       "16               HR           Juttatás    3554388.0\n",
       "17               HR           Toborzás     500000.0\n",
       "18               HR           Egészség      42456.0\n",
       "19       Fejlesztés         MultilogIn   48392677.0\n",
       "20           2. kat              Egyéb   61876305.0"
      ]
     },
     "execution_count": 2,
     "metadata": {},
     "output_type": "execute_result"
    }
   ],
   "source": [
    "df_categories = df_expense[['kategoria', 'alkategoria', 'netto']].groupby(['kategoria', 'alkategoria']).sum().sort_values(['kategoria', 'netto'], ascending=False).round(0).reset_index()\n",
    "\n",
    "df_subcategories = df_expense[['alkategoria', 'elem', 'netto']].groupby(['alkategoria', 'elem']).sum().sort_values(['alkategoria','netto'], ascending=False).round(0).reset_index()\n",
    "\n",
    "df_categories\n"
   ]
  },
  {
   "cell_type": "code",
   "execution_count": 3,
   "metadata": {},
   "outputs": [],
   "source": [
    "import plotly.express as px\n",
    "\n",
    "fig = px.bar(\n",
    "    df_categories,\n",
    "    x='netto',\n",
    "    y='kategoria',\n",
    "    color='alkategoria'\n",
    ")"
   ]
  },
  {
   "cell_type": "code",
   "execution_count": 4,
   "metadata": {},
   "outputs": [],
   "source": [
    "fig = px.bar(\n",
    "    df_subcategories,\n",
    "    x='netto',\n",
    "    y='alkategoria',\n",
    "    color='elem'\n",
    ")"
   ]
  },
  {
   "cell_type": "code",
   "execution_count": 5,
   "metadata": {},
   "outputs": [],
   "source": [
    "summ_category = df_expense[['kategoria', 'alkategoria', 'netto']].groupby('kategoria', as_index=False).sum().sort_values('netto',ascending=False)\n",
    "\n",
    "fig = px.pie(\n",
    "    summ_category,\n",
    "    'kategoria',\n",
    "    'netto'\n",
    ")"
   ]
  },
  {
   "cell_type": "code",
   "execution_count": 6,
   "metadata": {},
   "outputs": [],
   "source": [
    "df_item = df_expense[['kategoria', 'alkategoria', 'elem', 'netto']].groupby(['kategoria', 'alkategoria','elem']).sum().round(0).reset_index()\n",
    "\n",
    "fig = px.sunburst(\n",
    "    data_frame=df_item,\n",
    "    path=['kategoria', 'alkategoria', 'elem'],\n",
    "    values='netto',\n",
    "    color_discrete_sequence= px.colors.qualitative.T10\n",
    ")"
   ]
  },
  {
   "cell_type": "code",
   "execution_count": 7,
   "metadata": {},
   "outputs": [
    {
     "data": {
      "application/vnd.plotly.v1+json": {
       "config": {
        "plotlyServerURL": "https://plot.ly"
       },
       "data": [
        {
         "marker": {
          "color": "indianred"
         },
         "name": "Primary Product",
         "type": "bar",
         "x": [
          "Január",
          "Február",
          "Március",
          "Április",
          "Május",
          "Június",
          "Július",
          "Augusztus",
          "Szeptember",
          "Október",
          "November",
          "December"
         ],
         "y": [
          20,
          14,
          25,
          16,
          18,
          22,
          19,
          15,
          12,
          16,
          14,
          17
         ]
        },
        {
         "marker": {
          "color": "lightsalmon"
         },
         "name": "Secondary Product",
         "type": "bar",
         "x": [
          "Január",
          "Február",
          "Március",
          "Április",
          "Május",
          "Június",
          "Július",
          "Augusztus",
          "Szeptember",
          "Október",
          "November",
          "December"
         ],
         "y": [
          19,
          14,
          22,
          14,
          16,
          19,
          15,
          14,
          10,
          12,
          12,
          16
         ]
        }
       ],
       "layout": {
        "template": {
         "data": {
          "bar": [
           {
            "error_x": {
             "color": "#2a3f5f"
            },
            "error_y": {
             "color": "#2a3f5f"
            },
            "marker": {
             "line": {
              "color": "#E5ECF6",
              "width": 0.5
             },
             "pattern": {
              "fillmode": "overlay",
              "size": 10,
              "solidity": 0.2
             }
            },
            "type": "bar"
           }
          ],
          "barpolar": [
           {
            "marker": {
             "line": {
              "color": "#E5ECF6",
              "width": 0.5
             },
             "pattern": {
              "fillmode": "overlay",
              "size": 10,
              "solidity": 0.2
             }
            },
            "type": "barpolar"
           }
          ],
          "carpet": [
           {
            "aaxis": {
             "endlinecolor": "#2a3f5f",
             "gridcolor": "white",
             "linecolor": "white",
             "minorgridcolor": "white",
             "startlinecolor": "#2a3f5f"
            },
            "baxis": {
             "endlinecolor": "#2a3f5f",
             "gridcolor": "white",
             "linecolor": "white",
             "minorgridcolor": "white",
             "startlinecolor": "#2a3f5f"
            },
            "type": "carpet"
           }
          ],
          "choropleth": [
           {
            "colorbar": {
             "outlinewidth": 0,
             "ticks": ""
            },
            "type": "choropleth"
           }
          ],
          "contour": [
           {
            "colorbar": {
             "outlinewidth": 0,
             "ticks": ""
            },
            "colorscale": [
             [
              0,
              "#0d0887"
             ],
             [
              0.1111111111111111,
              "#46039f"
             ],
             [
              0.2222222222222222,
              "#7201a8"
             ],
             [
              0.3333333333333333,
              "#9c179e"
             ],
             [
              0.4444444444444444,
              "#bd3786"
             ],
             [
              0.5555555555555556,
              "#d8576b"
             ],
             [
              0.6666666666666666,
              "#ed7953"
             ],
             [
              0.7777777777777778,
              "#fb9f3a"
             ],
             [
              0.8888888888888888,
              "#fdca26"
             ],
             [
              1,
              "#f0f921"
             ]
            ],
            "type": "contour"
           }
          ],
          "contourcarpet": [
           {
            "colorbar": {
             "outlinewidth": 0,
             "ticks": ""
            },
            "type": "contourcarpet"
           }
          ],
          "heatmap": [
           {
            "colorbar": {
             "outlinewidth": 0,
             "ticks": ""
            },
            "colorscale": [
             [
              0,
              "#0d0887"
             ],
             [
              0.1111111111111111,
              "#46039f"
             ],
             [
              0.2222222222222222,
              "#7201a8"
             ],
             [
              0.3333333333333333,
              "#9c179e"
             ],
             [
              0.4444444444444444,
              "#bd3786"
             ],
             [
              0.5555555555555556,
              "#d8576b"
             ],
             [
              0.6666666666666666,
              "#ed7953"
             ],
             [
              0.7777777777777778,
              "#fb9f3a"
             ],
             [
              0.8888888888888888,
              "#fdca26"
             ],
             [
              1,
              "#f0f921"
             ]
            ],
            "type": "heatmap"
           }
          ],
          "heatmapgl": [
           {
            "colorbar": {
             "outlinewidth": 0,
             "ticks": ""
            },
            "colorscale": [
             [
              0,
              "#0d0887"
             ],
             [
              0.1111111111111111,
              "#46039f"
             ],
             [
              0.2222222222222222,
              "#7201a8"
             ],
             [
              0.3333333333333333,
              "#9c179e"
             ],
             [
              0.4444444444444444,
              "#bd3786"
             ],
             [
              0.5555555555555556,
              "#d8576b"
             ],
             [
              0.6666666666666666,
              "#ed7953"
             ],
             [
              0.7777777777777778,
              "#fb9f3a"
             ],
             [
              0.8888888888888888,
              "#fdca26"
             ],
             [
              1,
              "#f0f921"
             ]
            ],
            "type": "heatmapgl"
           }
          ],
          "histogram": [
           {
            "marker": {
             "pattern": {
              "fillmode": "overlay",
              "size": 10,
              "solidity": 0.2
             }
            },
            "type": "histogram"
           }
          ],
          "histogram2d": [
           {
            "colorbar": {
             "outlinewidth": 0,
             "ticks": ""
            },
            "colorscale": [
             [
              0,
              "#0d0887"
             ],
             [
              0.1111111111111111,
              "#46039f"
             ],
             [
              0.2222222222222222,
              "#7201a8"
             ],
             [
              0.3333333333333333,
              "#9c179e"
             ],
             [
              0.4444444444444444,
              "#bd3786"
             ],
             [
              0.5555555555555556,
              "#d8576b"
             ],
             [
              0.6666666666666666,
              "#ed7953"
             ],
             [
              0.7777777777777778,
              "#fb9f3a"
             ],
             [
              0.8888888888888888,
              "#fdca26"
             ],
             [
              1,
              "#f0f921"
             ]
            ],
            "type": "histogram2d"
           }
          ],
          "histogram2dcontour": [
           {
            "colorbar": {
             "outlinewidth": 0,
             "ticks": ""
            },
            "colorscale": [
             [
              0,
              "#0d0887"
             ],
             [
              0.1111111111111111,
              "#46039f"
             ],
             [
              0.2222222222222222,
              "#7201a8"
             ],
             [
              0.3333333333333333,
              "#9c179e"
             ],
             [
              0.4444444444444444,
              "#bd3786"
             ],
             [
              0.5555555555555556,
              "#d8576b"
             ],
             [
              0.6666666666666666,
              "#ed7953"
             ],
             [
              0.7777777777777778,
              "#fb9f3a"
             ],
             [
              0.8888888888888888,
              "#fdca26"
             ],
             [
              1,
              "#f0f921"
             ]
            ],
            "type": "histogram2dcontour"
           }
          ],
          "mesh3d": [
           {
            "colorbar": {
             "outlinewidth": 0,
             "ticks": ""
            },
            "type": "mesh3d"
           }
          ],
          "parcoords": [
           {
            "line": {
             "colorbar": {
              "outlinewidth": 0,
              "ticks": ""
             }
            },
            "type": "parcoords"
           }
          ],
          "pie": [
           {
            "automargin": true,
            "type": "pie"
           }
          ],
          "scatter": [
           {
            "fillpattern": {
             "fillmode": "overlay",
             "size": 10,
             "solidity": 0.2
            },
            "type": "scatter"
           }
          ],
          "scatter3d": [
           {
            "line": {
             "colorbar": {
              "outlinewidth": 0,
              "ticks": ""
             }
            },
            "marker": {
             "colorbar": {
              "outlinewidth": 0,
              "ticks": ""
             }
            },
            "type": "scatter3d"
           }
          ],
          "scattercarpet": [
           {
            "marker": {
             "colorbar": {
              "outlinewidth": 0,
              "ticks": ""
             }
            },
            "type": "scattercarpet"
           }
          ],
          "scattergeo": [
           {
            "marker": {
             "colorbar": {
              "outlinewidth": 0,
              "ticks": ""
             }
            },
            "type": "scattergeo"
           }
          ],
          "scattergl": [
           {
            "marker": {
             "colorbar": {
              "outlinewidth": 0,
              "ticks": ""
             }
            },
            "type": "scattergl"
           }
          ],
          "scattermapbox": [
           {
            "marker": {
             "colorbar": {
              "outlinewidth": 0,
              "ticks": ""
             }
            },
            "type": "scattermapbox"
           }
          ],
          "scatterpolar": [
           {
            "marker": {
             "colorbar": {
              "outlinewidth": 0,
              "ticks": ""
             }
            },
            "type": "scatterpolar"
           }
          ],
          "scatterpolargl": [
           {
            "marker": {
             "colorbar": {
              "outlinewidth": 0,
              "ticks": ""
             }
            },
            "type": "scatterpolargl"
           }
          ],
          "scatterternary": [
           {
            "marker": {
             "colorbar": {
              "outlinewidth": 0,
              "ticks": ""
             }
            },
            "type": "scatterternary"
           }
          ],
          "surface": [
           {
            "colorbar": {
             "outlinewidth": 0,
             "ticks": ""
            },
            "colorscale": [
             [
              0,
              "#0d0887"
             ],
             [
              0.1111111111111111,
              "#46039f"
             ],
             [
              0.2222222222222222,
              "#7201a8"
             ],
             [
              0.3333333333333333,
              "#9c179e"
             ],
             [
              0.4444444444444444,
              "#bd3786"
             ],
             [
              0.5555555555555556,
              "#d8576b"
             ],
             [
              0.6666666666666666,
              "#ed7953"
             ],
             [
              0.7777777777777778,
              "#fb9f3a"
             ],
             [
              0.8888888888888888,
              "#fdca26"
             ],
             [
              1,
              "#f0f921"
             ]
            ],
            "type": "surface"
           }
          ],
          "table": [
           {
            "cells": {
             "fill": {
              "color": "#EBF0F8"
             },
             "line": {
              "color": "white"
             }
            },
            "header": {
             "fill": {
              "color": "#C8D4E3"
             },
             "line": {
              "color": "white"
             }
            },
            "type": "table"
           }
          ]
         },
         "layout": {
          "annotationdefaults": {
           "arrowcolor": "#2a3f5f",
           "arrowhead": 0,
           "arrowwidth": 1
          },
          "autotypenumbers": "strict",
          "coloraxis": {
           "colorbar": {
            "outlinewidth": 0,
            "ticks": ""
           }
          },
          "colorscale": {
           "diverging": [
            [
             0,
             "#8e0152"
            ],
            [
             0.1,
             "#c51b7d"
            ],
            [
             0.2,
             "#de77ae"
            ],
            [
             0.3,
             "#f1b6da"
            ],
            [
             0.4,
             "#fde0ef"
            ],
            [
             0.5,
             "#f7f7f7"
            ],
            [
             0.6,
             "#e6f5d0"
            ],
            [
             0.7,
             "#b8e186"
            ],
            [
             0.8,
             "#7fbc41"
            ],
            [
             0.9,
             "#4d9221"
            ],
            [
             1,
             "#276419"
            ]
           ],
           "sequential": [
            [
             0,
             "#0d0887"
            ],
            [
             0.1111111111111111,
             "#46039f"
            ],
            [
             0.2222222222222222,
             "#7201a8"
            ],
            [
             0.3333333333333333,
             "#9c179e"
            ],
            [
             0.4444444444444444,
             "#bd3786"
            ],
            [
             0.5555555555555556,
             "#d8576b"
            ],
            [
             0.6666666666666666,
             "#ed7953"
            ],
            [
             0.7777777777777778,
             "#fb9f3a"
            ],
            [
             0.8888888888888888,
             "#fdca26"
            ],
            [
             1,
             "#f0f921"
            ]
           ],
           "sequentialminus": [
            [
             0,
             "#0d0887"
            ],
            [
             0.1111111111111111,
             "#46039f"
            ],
            [
             0.2222222222222222,
             "#7201a8"
            ],
            [
             0.3333333333333333,
             "#9c179e"
            ],
            [
             0.4444444444444444,
             "#bd3786"
            ],
            [
             0.5555555555555556,
             "#d8576b"
            ],
            [
             0.6666666666666666,
             "#ed7953"
            ],
            [
             0.7777777777777778,
             "#fb9f3a"
            ],
            [
             0.8888888888888888,
             "#fdca26"
            ],
            [
             1,
             "#f0f921"
            ]
           ]
          },
          "colorway": [
           "#636efa",
           "#EF553B",
           "#00cc96",
           "#ab63fa",
           "#FFA15A",
           "#19d3f3",
           "#FF6692",
           "#B6E880",
           "#FF97FF",
           "#FECB52"
          ],
          "font": {
           "color": "#2a3f5f"
          },
          "geo": {
           "bgcolor": "white",
           "lakecolor": "white",
           "landcolor": "#E5ECF6",
           "showlakes": true,
           "showland": true,
           "subunitcolor": "white"
          },
          "hoverlabel": {
           "align": "left"
          },
          "hovermode": "closest",
          "mapbox": {
           "style": "light"
          },
          "paper_bgcolor": "white",
          "plot_bgcolor": "#E5ECF6",
          "polar": {
           "angularaxis": {
            "gridcolor": "white",
            "linecolor": "white",
            "ticks": ""
           },
           "bgcolor": "#E5ECF6",
           "radialaxis": {
            "gridcolor": "white",
            "linecolor": "white",
            "ticks": ""
           }
          },
          "scene": {
           "xaxis": {
            "backgroundcolor": "#E5ECF6",
            "gridcolor": "white",
            "gridwidth": 2,
            "linecolor": "white",
            "showbackground": true,
            "ticks": "",
            "zerolinecolor": "white"
           },
           "yaxis": {
            "backgroundcolor": "#E5ECF6",
            "gridcolor": "white",
            "gridwidth": 2,
            "linecolor": "white",
            "showbackground": true,
            "ticks": "",
            "zerolinecolor": "white"
           },
           "zaxis": {
            "backgroundcolor": "#E5ECF6",
            "gridcolor": "white",
            "gridwidth": 2,
            "linecolor": "white",
            "showbackground": true,
            "ticks": "",
            "zerolinecolor": "white"
           }
          },
          "shapedefaults": {
           "line": {
            "color": "#2a3f5f"
           }
          },
          "ternary": {
           "aaxis": {
            "gridcolor": "white",
            "linecolor": "white",
            "ticks": ""
           },
           "baxis": {
            "gridcolor": "white",
            "linecolor": "white",
            "ticks": ""
           },
           "bgcolor": "#E5ECF6",
           "caxis": {
            "gridcolor": "white",
            "linecolor": "white",
            "ticks": ""
           }
          },
          "title": {
           "x": 0.05
          },
          "xaxis": {
           "automargin": true,
           "gridcolor": "white",
           "linecolor": "white",
           "ticks": "",
           "title": {
            "standoff": 15
           },
           "zerolinecolor": "white",
           "zerolinewidth": 2
          },
          "yaxis": {
           "automargin": true,
           "gridcolor": "white",
           "linecolor": "white",
           "ticks": "",
           "title": {
            "standoff": 15
           },
           "zerolinecolor": "white",
           "zerolinewidth": 2
          }
         }
        }
       }
      }
     },
     "metadata": {},
     "output_type": "display_data"
    }
   ],
   "source": [
    "import plotly.graph_objects as go\n",
    "\n",
    "comp_years = 2023\n",
    "\n",
    "comp_df = df_expense[['netto', 'year','month']].groupby(['year','month']).sum().reset_index()\n",
    "comp_df\n",
    "\n",
    "\n",
    "#month_names = { 1: 'Január', 2: 'Február', 3: 'Március', 4: 'Április', 5: 'Május', 6: 'Június', 7: 'Július', 8: 'Augusztus', 9: 'Szeptember', 10: 'Október', 11: 'November', 12: 'December'}\n",
    "months = ['Január','Február', 'Március', 'Április', 'Május', 'Június', 'Július', 'Augusztus', 'Szeptember',  'Október',  'November',  'December']\n",
    "\n",
    "fig = go.Figure()\n",
    "fig.add_trace(go.Bar(\n",
    "    x=months,\n",
    "    y=[20, 14, 25, 16, 18, 22, 19, 15, 12, 16, 14, 17],\n",
    "    name='Primary Product',\n",
    "    marker_color='indianred'\n",
    "))\n",
    "fig.add_trace(go.Bar(\n",
    "    x=months,\n",
    "    y=[19, 14, 22, 14, 16, 19, 15, 14, 10, 12, 12, 16],\n",
    "    name='Secondary Product',\n",
    "    marker_color='lightsalmon'\n",
    "))\n",
    "\n",
    "fig"
   ]
  },
  {
   "cell_type": "code",
   "execution_count": 8,
   "metadata": {},
   "outputs": [
    {
     "data": {
      "text/html": [
       "<div>\n",
       "<style scoped>\n",
       "    .dataframe tbody tr th:only-of-type {\n",
       "        vertical-align: middle;\n",
       "    }\n",
       "\n",
       "    .dataframe tbody tr th {\n",
       "        vertical-align: top;\n",
       "    }\n",
       "\n",
       "    .dataframe thead th {\n",
       "        text-align: right;\n",
       "    }\n",
       "</style>\n",
       "<table border=\"1\" class=\"dataframe\">\n",
       "  <thead>\n",
       "    <tr style=\"text-align: right;\">\n",
       "      <th></th>\n",
       "      <th></th>\n",
       "      <th></th>\n",
       "      <th>netto</th>\n",
       "      <th>szazalek</th>\n",
       "    </tr>\n",
       "    <tr>\n",
       "      <th>kategoria</th>\n",
       "      <th>alkategoria</th>\n",
       "      <th>elem</th>\n",
       "      <th></th>\n",
       "      <th></th>\n",
       "    </tr>\n",
       "  </thead>\n",
       "  <tbody>\n",
       "    <tr>\n",
       "      <th rowspan=\"4\" valign=\"top\">2. kat</th>\n",
       "      <th rowspan=\"4\" valign=\"top\">Egyéb</th>\n",
       "      <th>Multilog Raktárbázis</th>\n",
       "      <td>16426491.0</td>\n",
       "      <td>2.857733</td>\n",
       "    </tr>\n",
       "    <tr>\n",
       "      <th>N-Cont</th>\n",
       "      <td>479160.0</td>\n",
       "      <td>0.083360</td>\n",
       "    </tr>\n",
       "    <tr>\n",
       "      <th>Peti privat</th>\n",
       "      <td>55206.0</td>\n",
       "      <td>0.009604</td>\n",
       "    </tr>\n",
       "    <tr>\n",
       "      <th>Zoli privát</th>\n",
       "      <td>44915448.0</td>\n",
       "      <td>7.813986</td>\n",
       "    </tr>\n",
       "    <tr>\n",
       "      <th>Fejlesztés</th>\n",
       "      <th>MultilogIn</th>\n",
       "      <th>Alvállalkozói bér</th>\n",
       "      <td>24343500.0</td>\n",
       "      <td>4.235064</td>\n",
       "    </tr>\n",
       "    <tr>\n",
       "      <th>...</th>\n",
       "      <th>...</th>\n",
       "      <th>...</th>\n",
       "      <td>...</td>\n",
       "      <td>...</td>\n",
       "    </tr>\n",
       "    <tr>\n",
       "      <th rowspan=\"5\" valign=\"top\">Üzemeltetés</th>\n",
       "      <th>Könyvitel</th>\n",
       "      <th>Munkadíj</th>\n",
       "      <td>5935949.5</td>\n",
       "      <td>1.032683</td>\n",
       "    </tr>\n",
       "    <tr>\n",
       "      <th rowspan=\"2\" valign=\"top\">Telekomunikáció</th>\n",
       "      <th>Eszköz</th>\n",
       "      <td>962503.0</td>\n",
       "      <td>0.167448</td>\n",
       "    </tr>\n",
       "    <tr>\n",
       "      <th>Üzemeltetés</th>\n",
       "      <td>1721119.0</td>\n",
       "      <td>0.299425</td>\n",
       "    </tr>\n",
       "    <tr>\n",
       "      <th rowspan=\"2\" valign=\"top\">Telephely</th>\n",
       "      <th>Parkoló</th>\n",
       "      <td>2090000.0</td>\n",
       "      <td>0.363599</td>\n",
       "    </tr>\n",
       "    <tr>\n",
       "      <th>Általános üzemeltetés</th>\n",
       "      <td>448646.0</td>\n",
       "      <td>0.078051</td>\n",
       "    </tr>\n",
       "  </tbody>\n",
       "</table>\n",
       "<p>66 rows × 2 columns</p>\n",
       "</div>"
      ],
      "text/plain": [
       "                                                        netto  szazalek\n",
       "kategoria   alkategoria     elem                                       \n",
       "2. kat      Egyéb           Multilog Raktárbázis   16426491.0  2.857733\n",
       "                            N-Cont                   479160.0  0.083360\n",
       "                            Peti privat               55206.0  0.009604\n",
       "                            Zoli privát            44915448.0  7.813986\n",
       "Fejlesztés  MultilogIn      Alvállalkozói bér      24343500.0  4.235064\n",
       "...                                                       ...       ...\n",
       "Üzemeltetés Könyvitel       Munkadíj                5935949.5  1.032683\n",
       "            Telekomunikáció Eszköz                   962503.0  0.167448\n",
       "                            Üzemeltetés             1721119.0  0.299425\n",
       "            Telephely       Parkoló                 2090000.0  0.363599\n",
       "                            Általános üzemeltetés    448646.0  0.078051\n",
       "\n",
       "[66 rows x 2 columns]"
      ]
     },
     "execution_count": 8,
     "metadata": {},
     "output_type": "execute_result"
    }
   ],
   "source": [
    "df_perc = df_expense[['kategoria', 'alkategoria', 'elem', 'netto']].groupby(['kategoria','alkategoria','elem']).sum()\n",
    "\n",
    "df_perc['szazalek'] = (df_perc['netto']/df_perc['netto'].sum())*100\n",
    "df_perc"
   ]
  },
  {
   "cell_type": "code",
   "execution_count": 9,
   "metadata": {},
   "outputs": [],
   "source": [
    "df_2023 = df_expense[df_expense['year'] == 2023][['kategoria', 'netto']].groupby(['kategoria']).sum()\n",
    "df_2022 = df_expense[df_expense['year'] == 2022][['kategoria', 'netto']].groupby(['kategoria']).sum()"
   ]
  },
  {
   "cell_type": "code",
   "execution_count": 10,
   "metadata": {},
   "outputs": [
    {
     "name": "stdout",
     "output_type": "stream",
     "text": [
      "2. kat 31,654,013 Ft 154.08 %\n",
      "Fejlesztés 26,505,823 Ft 34.53 %\n",
      "HR 138,116,745 Ft 36.77 %\n",
      "Marketing 863,478 Ft -56.75 %\n",
      "Raktározás 4,718,682 Ft nan %\n",
      "Szállítmányozás 1,486,211 Ft nan %\n",
      "Vám 8,931,782 Ft 8.54 %\n",
      "Üzemeltetés 52,333,424 Ft -15.30 %\n"
     ]
    }
   ],
   "source": [
    "df_sun_merge = pd.merge(left=df_2022,right=df_2023,on='kategoria',how='right')\n",
    "\n",
    "df_sun_merge['diff'] = (df_sun_merge['netto_y']/df_sun_merge['netto_x'])*100-100\n",
    "\n",
    "df_sun_merge.dtypes\n",
    "\n",
    "for key, values in df_sun_merge.iterrows():\n",
    "    netto_y_formatted = f\"{values['netto_y']:,.0f} Ft\"\n",
    "    diff_formated  = f\"{values['diff']:,.2f} %\"\n",
    "    print(f'{key}',netto_y_formatted ,diff_formated)"
   ]
  },
  {
   "cell_type": "code",
   "execution_count": 11,
   "metadata": {},
   "outputs": [
    {
     "name": "stdout",
     "output_type": "stream",
     "text": [
      "2. kat: 154.079449\n",
      "Fejlesztés: 34.534664\n",
      "HR: 36.774586\n",
      "Marketing: -56.750781\n",
      "Raktározás: nan\n",
      "Szállítmányozás: nan\n",
      "Vám: 8.538305\n",
      "Üzemeltetés: -15.302991\n"
     ]
    },
    {
     "data": {
      "text/plain": [
       "netto_x    float64\n",
       "netto_y    float64\n",
       "diff       float64\n",
       "dtype: object"
      ]
     },
     "execution_count": 11,
     "metadata": {},
     "output_type": "execute_result"
    }
   ],
   "source": [
    "import pandas as pd\n",
    "\n",
    "# Assuming the DataFrame is named df and looks something like this:\n",
    "data = {\n",
    "    'netto_x': [1.245831e+07, 1.970185e+07, 1.009813e+08, 1.996517e+06, None, None, 8.229152e+06, 6.178899e+07],\n",
    "    'netto_y': [3.165401e+07, 2.650582e+07, 1.381167e+08, 8.634780e+05, 4.718682e+06, 1.486211e+06, 8.931782e+06, 5.233342e+07],\n",
    "    'diff': [154.079449, 34.534664, 36.774586, -56.750781, None, None, 8.538305, -15.302991]\n",
    "}\n",
    "index = ['2. kat', 'Fejlesztés', 'HR', 'Marketing', 'Raktározás', 'Szállítmányozás', 'Vám', 'Üzemeltetés']\n",
    "df = pd.DataFrame(data, index=index)\n",
    "\n",
    "# Iterate directly over the DataFrame rows\n",
    "for index, row in df.iterrows():\n",
    "    print(f\"{index}: {row['diff']}\")\n",
    "    \n",
    "df.dtypes"
   ]
  }
 ],
 "metadata": {
  "kernelspec": {
   "display_name": "base",
   "language": "python",
   "name": "python3"
  },
  "language_info": {
   "codemirror_mode": {
    "name": "ipython",
    "version": 3
   },
   "file_extension": ".py",
   "mimetype": "text/x-python",
   "name": "python",
   "nbconvert_exporter": "python",
   "pygments_lexer": "ipython3",
   "version": "3.11.9"
  }
 },
 "nbformat": 4,
 "nbformat_minor": 2
}
