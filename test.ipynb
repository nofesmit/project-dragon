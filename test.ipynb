{
 "cells": [
  {
   "cell_type": "code",
   "execution_count": 11,
   "metadata": {},
   "outputs": [
    {
     "data": {
      "text/html": [
       "<div>\n",
       "<style scoped>\n",
       "    .dataframe tbody tr th:only-of-type {\n",
       "        vertical-align: middle;\n",
       "    }\n",
       "\n",
       "    .dataframe tbody tr th {\n",
       "        vertical-align: top;\n",
       "    }\n",
       "\n",
       "    .dataframe thead th {\n",
       "        text-align: right;\n",
       "    }\n",
       "</style>\n",
       "<table border=\"1\" class=\"dataframe\">\n",
       "  <thead>\n",
       "    <tr style=\"text-align: right;\">\n",
       "      <th></th>\n",
       "      <th>ID</th>\n",
       "      <th>partner</th>\n",
       "      <th>bizonylat_szam</th>\n",
       "      <th>megjegyzes</th>\n",
       "      <th>datum</th>\n",
       "      <th>netto</th>\n",
       "      <th>kat_kod</th>\n",
       "      <th>fo_kat</th>\n",
       "      <th>forras</th>\n",
       "      <th>kategoria</th>\n",
       "      <th>alkategoria</th>\n",
       "      <th>elem</th>\n",
       "      <th>year</th>\n",
       "      <th>month</th>\n",
       "      <th>quarter</th>\n",
       "      <th>month_year</th>\n",
       "    </tr>\n",
       "  </thead>\n",
       "  <tbody>\n",
       "    <tr>\n",
       "      <th>0</th>\n",
       "      <td>2296.0</td>\n",
       "      <td>bank ktg</td>\n",
       "      <td>Könyvelésből</td>\n",
       "      <td>bank ktg</td>\n",
       "      <td>2022-01-01</td>\n",
       "      <td>456552.75</td>\n",
       "      <td>U27</td>\n",
       "      <td>1.0</td>\n",
       "      <td>Bank</td>\n",
       "      <td>Üzemeltetés</td>\n",
       "      <td>Bank</td>\n",
       "      <td>Bank</td>\n",
       "      <td>2022</td>\n",
       "      <td>1</td>\n",
       "      <td>1</td>\n",
       "      <td>2022-01</td>\n",
       "    </tr>\n",
       "    <tr>\n",
       "      <th>1</th>\n",
       "      <td>3128.0</td>\n",
       "      <td>TLT Telecom Kft</td>\n",
       "      <td>2022/K-000272/000</td>\n",
       "      <td>internet ktg</td>\n",
       "      <td>2022-01-01</td>\n",
       "      <td>8500.00</td>\n",
       "      <td>U21</td>\n",
       "      <td>1.0</td>\n",
       "      <td>Bank</td>\n",
       "      <td>Üzemeltetés</td>\n",
       "      <td>IT</td>\n",
       "      <td>Üzemeltetési</td>\n",
       "      <td>2022</td>\n",
       "      <td>1</td>\n",
       "      <td>1</td>\n",
       "      <td>2022-01</td>\n",
       "    </tr>\n",
       "    <tr>\n",
       "      <th>2</th>\n",
       "      <td>3221.0</td>\n",
       "      <td>VOIZ Zrt.</td>\n",
       "      <td>E-VOIZ-2022-63</td>\n",
       "      <td>PROGRAM BÉRLETI DÍJ</td>\n",
       "      <td>2022-01-01</td>\n",
       "      <td>3142.00</td>\n",
       "      <td>U21</td>\n",
       "      <td>1.0</td>\n",
       "      <td>Bank</td>\n",
       "      <td>Üzemeltetés</td>\n",
       "      <td>IT</td>\n",
       "      <td>Üzemeltetési</td>\n",
       "      <td>2022</td>\n",
       "      <td>1</td>\n",
       "      <td>1</td>\n",
       "      <td>2022-01</td>\n",
       "    </tr>\n",
       "    <tr>\n",
       "      <th>3</th>\n",
       "      <td>2263.0</td>\n",
       "      <td>Autóflotta Kft</td>\n",
       "      <td>AF-KS2230131</td>\n",
       "      <td>autó bérletidíj -RCT</td>\n",
       "      <td>2022-01-03</td>\n",
       "      <td>109134.00</td>\n",
       "      <td>X01</td>\n",
       "      <td>1.0</td>\n",
       "      <td>Bank</td>\n",
       "      <td>2. kat</td>\n",
       "      <td>Egyéb</td>\n",
       "      <td>Zoli privát</td>\n",
       "      <td>2022</td>\n",
       "      <td>1</td>\n",
       "      <td>1</td>\n",
       "      <td>2022-01</td>\n",
       "    </tr>\n",
       "    <tr>\n",
       "      <th>4</th>\n",
       "      <td>2264.0</td>\n",
       "      <td>Autóflotta Kft</td>\n",
       "      <td>AF-KS2230132</td>\n",
       "      <td>autó bérletidíj RFL</td>\n",
       "      <td>2022-01-03</td>\n",
       "      <td>189580.00</td>\n",
       "      <td>U01</td>\n",
       "      <td>1.0</td>\n",
       "      <td>Bank</td>\n",
       "      <td>Üzemeltetés</td>\n",
       "      <td>Cégautó</td>\n",
       "      <td>Bérleti díj</td>\n",
       "      <td>2022</td>\n",
       "      <td>1</td>\n",
       "      <td>1</td>\n",
       "      <td>2022-01</td>\n",
       "    </tr>\n",
       "    <tr>\n",
       "      <th>...</th>\n",
       "      <td>...</td>\n",
       "      <td>...</td>\n",
       "      <td>...</td>\n",
       "      <td>...</td>\n",
       "      <td>...</td>\n",
       "      <td>...</td>\n",
       "      <td>...</td>\n",
       "      <td>...</td>\n",
       "      <td>...</td>\n",
       "      <td>...</td>\n",
       "      <td>...</td>\n",
       "      <td>...</td>\n",
       "      <td>...</td>\n",
       "      <td>...</td>\n",
       "      <td>...</td>\n",
       "      <td>...</td>\n",
       "    </tr>\n",
       "    <tr>\n",
       "      <th>3345</th>\n",
       "      <td>NaN</td>\n",
       "      <td>Kiskassza</td>\n",
       "      <td></td>\n",
       "      <td>Lidl Magyarország Bt.</td>\n",
       "      <td>2022-07-01</td>\n",
       "      <td>4914.00</td>\n",
       "      <td>H01</td>\n",
       "      <td>hiányos</td>\n",
       "      <td>KP02</td>\n",
       "      <td>HR</td>\n",
       "      <td>Juttatás</td>\n",
       "      <td>Élelmiszer</td>\n",
       "      <td>2022</td>\n",
       "      <td>7</td>\n",
       "      <td>3</td>\n",
       "      <td>2022-07</td>\n",
       "    </tr>\n",
       "    <tr>\n",
       "      <th>3346</th>\n",
       "      <td>NaN</td>\n",
       "      <td>Kiskassza</td>\n",
       "      <td></td>\n",
       "      <td>Lidl Magyarország Bt.</td>\n",
       "      <td>2022-07-01</td>\n",
       "      <td>4091.00</td>\n",
       "      <td>H01</td>\n",
       "      <td>hiányos</td>\n",
       "      <td>KP02</td>\n",
       "      <td>HR</td>\n",
       "      <td>Juttatás</td>\n",
       "      <td>Élelmiszer</td>\n",
       "      <td>2022</td>\n",
       "      <td>7</td>\n",
       "      <td>3</td>\n",
       "      <td>2022-07</td>\n",
       "    </tr>\n",
       "    <tr>\n",
       "      <th>3347</th>\n",
       "      <td>NaN</td>\n",
       "      <td>Kiskassza</td>\n",
       "      <td></td>\n",
       "      <td>Lidl Magyarország Bt.</td>\n",
       "      <td>2022-07-01</td>\n",
       "      <td>1683.00</td>\n",
       "      <td>H01</td>\n",
       "      <td>hiányos</td>\n",
       "      <td>KP02</td>\n",
       "      <td>HR</td>\n",
       "      <td>Juttatás</td>\n",
       "      <td>Élelmiszer</td>\n",
       "      <td>2022</td>\n",
       "      <td>7</td>\n",
       "      <td>3</td>\n",
       "      <td>2022-07</td>\n",
       "    </tr>\n",
       "    <tr>\n",
       "      <th>3348</th>\n",
       "      <td>NaN</td>\n",
       "      <td>Kiskassza</td>\n",
       "      <td></td>\n",
       "      <td>Lidl Magyarország Bt.</td>\n",
       "      <td>2022-07-01</td>\n",
       "      <td>1254.00</td>\n",
       "      <td>H01</td>\n",
       "      <td>hiányos</td>\n",
       "      <td>KP02</td>\n",
       "      <td>HR</td>\n",
       "      <td>Juttatás</td>\n",
       "      <td>Élelmiszer</td>\n",
       "      <td>2022</td>\n",
       "      <td>7</td>\n",
       "      <td>3</td>\n",
       "      <td>2022-07</td>\n",
       "    </tr>\n",
       "    <tr>\n",
       "      <th>3349</th>\n",
       "      <td>NaN</td>\n",
       "      <td>Kiskassza</td>\n",
       "      <td></td>\n",
       "      <td>ERDŐS NORBERT - ARBORÉTUMI NYARALÓ SZARVAS</td>\n",
       "      <td>2022-06-01</td>\n",
       "      <td>257500.00</td>\n",
       "      <td>H04</td>\n",
       "      <td>hiányos</td>\n",
       "      <td>KP02</td>\n",
       "      <td>HR</td>\n",
       "      <td>Juttatás</td>\n",
       "      <td>Csapatépítő</td>\n",
       "      <td>2022</td>\n",
       "      <td>6</td>\n",
       "      <td>2</td>\n",
       "      <td>2022-06</td>\n",
       "    </tr>\n",
       "  </tbody>\n",
       "</table>\n",
       "<p>3350 rows × 16 columns</p>\n",
       "</div>"
      ],
      "text/plain": [
       "          ID           partner     bizonylat_szam  \\\n",
       "0     2296.0          bank ktg       Könyvelésből   \n",
       "1     3128.0  TLT Telecom Kft   2022/K-000272/000   \n",
       "2     3221.0        VOIZ Zrt.      E-VOIZ-2022-63   \n",
       "3     2263.0   Autóflotta Kft        AF-KS2230131   \n",
       "4     2264.0   Autóflotta Kft        AF-KS2230132   \n",
       "...      ...               ...                ...   \n",
       "3345     NaN         Kiskassza                      \n",
       "3346     NaN         Kiskassza                      \n",
       "3347     NaN         Kiskassza                      \n",
       "3348     NaN         Kiskassza                      \n",
       "3349     NaN         Kiskassza                      \n",
       "\n",
       "                                      megjegyzes      datum      netto  \\\n",
       "0                                       bank ktg 2022-01-01  456552.75   \n",
       "1                                   internet ktg 2022-01-01    8500.00   \n",
       "2                            PROGRAM BÉRLETI DÍJ 2022-01-01    3142.00   \n",
       "3                           autó bérletidíj -RCT 2022-01-03  109134.00   \n",
       "4                            autó bérletidíj RFL 2022-01-03  189580.00   \n",
       "...                                          ...        ...        ...   \n",
       "3345                       Lidl Magyarország Bt. 2022-07-01    4914.00   \n",
       "3346                       Lidl Magyarország Bt. 2022-07-01    4091.00   \n",
       "3347                       Lidl Magyarország Bt. 2022-07-01    1683.00   \n",
       "3348                       Lidl Magyarország Bt. 2022-07-01    1254.00   \n",
       "3349  ERDŐS NORBERT - ARBORÉTUMI NYARALÓ SZARVAS 2022-06-01  257500.00   \n",
       "\n",
       "     kat_kod   fo_kat forras    kategoria alkategoria           elem  year  \\\n",
       "0        U27      1.0   Bank  Üzemeltetés        Bank           Bank  2022   \n",
       "1        U21      1.0   Bank  Üzemeltetés          IT  Üzemeltetési   2022   \n",
       "2        U21      1.0   Bank  Üzemeltetés          IT  Üzemeltetési   2022   \n",
       "3        X01      1.0   Bank       2. kat       Egyéb    Zoli privát  2022   \n",
       "4        U01      1.0   Bank  Üzemeltetés     Cégautó    Bérleti díj  2022   \n",
       "...      ...      ...    ...          ...         ...            ...   ...   \n",
       "3345     H01  hiányos   KP02           HR    Juttatás     Élelmiszer  2022   \n",
       "3346     H01  hiányos   KP02           HR    Juttatás     Élelmiszer  2022   \n",
       "3347     H01  hiányos   KP02           HR    Juttatás     Élelmiszer  2022   \n",
       "3348     H01  hiányos   KP02           HR    Juttatás     Élelmiszer  2022   \n",
       "3349     H04  hiányos   KP02           HR    Juttatás    Csapatépítő  2022   \n",
       "\n",
       "      month  quarter month_year  \n",
       "0         1        1    2022-01  \n",
       "1         1        1    2022-01  \n",
       "2         1        1    2022-01  \n",
       "3         1        1    2022-01  \n",
       "4         1        1    2022-01  \n",
       "...     ...      ...        ...  \n",
       "3345      7        3    2022-07  \n",
       "3346      7        3    2022-07  \n",
       "3347      7        3    2022-07  \n",
       "3348      7        3    2022-07  \n",
       "3349      6        2    2022-06  \n",
       "\n",
       "[3350 rows x 16 columns]"
      ]
     },
     "execution_count": 11,
     "metadata": {},
     "output_type": "execute_result"
    }
   ],
   "source": [
    "import pandas as pd\n",
    "\n",
    "df_exp_data = pd.read_excel('templates/with_data/expenses_data_template.xlsx')\n",
    "df_exp_cat = pd.read_excel('templates/with_data/expenses_category_template.xlsx')\n",
    "\n",
    "df_expense = pd.merge(df_exp_data, df_exp_cat, on='kat_kod', how='left')\n",
    "df_expense['year'] = pd.DatetimeIndex(df_expense['datum']).year\n",
    "df_expense['month'] = pd.DatetimeIndex(df_expense['datum']).month\n",
    "df_expense['quarter'] = pd.DatetimeIndex(df_expense['datum']).quarter\n",
    "df_expense['month_year'] = df_expense['datum'].dt.to_period('m')\n",
    "\n",
    "df_expense['bizonylat_szam'] = df_expense['bizonylat_szam'].apply(lambda x: str(x) if pd.notnull(x) else None)\n",
    "df_expense['bizonylat_szam'] = df_expense['bizonylat_szam'].fillna('')\n",
    "df_expense['megjegyzes'] = df_expense['megjegyzes'].apply(lambda x: str(x) if pd.notnull(x) else None)\n",
    "df_expense['megjegyzes'] = df_expense['megjegyzes'].fillna('')\n",
    "\n",
    "df_expense['kat_kod'] = df_expense['kat_kod'].apply(lambda x: str(x) if pd.notnull(x) else None)\n",
    "df_expense['kat_kod'] = df_expense['kat_kod'].fillna('hiányos')\n",
    "df_expense['fo_kat'] = pd.to_numeric(df_expense['fo_kat'], errors='coerce').fillna('hiányos').astype(str)\n",
    "df_expense['fo_kat'] = df_expense['fo_kat'].apply(lambda x: str(x) if pd.notnull(x) else None)\n",
    "df_expense['fo_kat'] = df_expense['fo_kat'].fillna('hiányos')\n",
    "df_expense['kategoria'] = df_expense['kategoria'].apply(lambda x: str(x) if pd.notnull(x) else None)\n",
    "df_expense['kategoria'] = df_expense['kategoria'].fillna('hiányos')\n",
    "df_expense['alkategoria'] = df_expense['alkategoria'].apply(lambda x: str(x) if pd.notnull(x) else None)\n",
    "df_expense['alkategoria'] = df_expense['alkategoria'].fillna('hiányos')\n",
    "df_expense['elem'] = df_expense['elem'].apply(lambda x: str(x) if pd.notnull(x) else None)\n",
    "df_expense['elem'] = df_expense['elem'].fillna('hiányos')\n",
    "df_expense"
   ]
  },
  {
   "cell_type": "code",
   "execution_count": 12,
   "metadata": {},
   "outputs": [
    {
     "data": {
      "text/html": [
       "<div>\n",
       "<style scoped>\n",
       "    .dataframe tbody tr th:only-of-type {\n",
       "        vertical-align: middle;\n",
       "    }\n",
       "\n",
       "    .dataframe tbody tr th {\n",
       "        vertical-align: top;\n",
       "    }\n",
       "\n",
       "    .dataframe thead th {\n",
       "        text-align: right;\n",
       "    }\n",
       "</style>\n",
       "<table border=\"1\" class=\"dataframe\">\n",
       "  <thead>\n",
       "    <tr style=\"text-align: right;\">\n",
       "      <th></th>\n",
       "      <th>kategoria</th>\n",
       "      <th>alkategoria</th>\n",
       "      <th>netto</th>\n",
       "    </tr>\n",
       "  </thead>\n",
       "  <tbody>\n",
       "    <tr>\n",
       "      <th>0</th>\n",
       "      <td>Üzemeltetés</td>\n",
       "      <td>Cégautó</td>\n",
       "      <td>42182966.0</td>\n",
       "    </tr>\n",
       "    <tr>\n",
       "      <th>1</th>\n",
       "      <td>Üzemeltetés</td>\n",
       "      <td>Iroda</td>\n",
       "      <td>30939633.0</td>\n",
       "    </tr>\n",
       "    <tr>\n",
       "      <th>2</th>\n",
       "      <td>Üzemeltetés</td>\n",
       "      <td>Bank</td>\n",
       "      <td>28230665.0</td>\n",
       "    </tr>\n",
       "    <tr>\n",
       "      <th>3</th>\n",
       "      <td>Üzemeltetés</td>\n",
       "      <td>IT</td>\n",
       "      <td>13470025.0</td>\n",
       "    </tr>\n",
       "    <tr>\n",
       "      <th>4</th>\n",
       "      <td>Üzemeltetés</td>\n",
       "      <td>Könyvitel</td>\n",
       "      <td>5935950.0</td>\n",
       "    </tr>\n",
       "    <tr>\n",
       "      <th>5</th>\n",
       "      <td>Üzemeltetés</td>\n",
       "      <td>Jogi  segítség</td>\n",
       "      <td>3679912.0</td>\n",
       "    </tr>\n",
       "    <tr>\n",
       "      <th>6</th>\n",
       "      <td>Üzemeltetés</td>\n",
       "      <td>Telekomunikáció</td>\n",
       "      <td>2683622.0</td>\n",
       "    </tr>\n",
       "    <tr>\n",
       "      <th>7</th>\n",
       "      <td>Üzemeltetés</td>\n",
       "      <td>Telephely</td>\n",
       "      <td>2538646.0</td>\n",
       "    </tr>\n",
       "    <tr>\n",
       "      <th>8</th>\n",
       "      <td>hiányos</td>\n",
       "      <td>hiányos</td>\n",
       "      <td>8372146.0</td>\n",
       "    </tr>\n",
       "    <tr>\n",
       "      <th>9</th>\n",
       "      <td>Vám</td>\n",
       "      <td>Teljesítési segéd</td>\n",
       "      <td>21494797.0</td>\n",
       "    </tr>\n",
       "    <tr>\n",
       "      <th>10</th>\n",
       "      <td>Szállítmányozás</td>\n",
       "      <td>Közvetített</td>\n",
       "      <td>3060211.0</td>\n",
       "    </tr>\n",
       "    <tr>\n",
       "      <th>11</th>\n",
       "      <td>Raktározás</td>\n",
       "      <td>Berendezés</td>\n",
       "      <td>4733682.0</td>\n",
       "    </tr>\n",
       "    <tr>\n",
       "      <th>12</th>\n",
       "      <td>Marketing</td>\n",
       "      <td>Honlap</td>\n",
       "      <td>2022734.0</td>\n",
       "    </tr>\n",
       "    <tr>\n",
       "      <th>13</th>\n",
       "      <td>Marketing</td>\n",
       "      <td>Brand</td>\n",
       "      <td>964261.0</td>\n",
       "    </tr>\n",
       "    <tr>\n",
       "      <th>14</th>\n",
       "      <td>HR</td>\n",
       "      <td>Bér</td>\n",
       "      <td>286576110.0</td>\n",
       "    </tr>\n",
       "    <tr>\n",
       "      <th>15</th>\n",
       "      <td>HR</td>\n",
       "      <td>Továbbképzés</td>\n",
       "      <td>3557198.0</td>\n",
       "    </tr>\n",
       "    <tr>\n",
       "      <th>16</th>\n",
       "      <td>HR</td>\n",
       "      <td>Juttatás</td>\n",
       "      <td>3554388.0</td>\n",
       "    </tr>\n",
       "    <tr>\n",
       "      <th>17</th>\n",
       "      <td>HR</td>\n",
       "      <td>Toborzás</td>\n",
       "      <td>500000.0</td>\n",
       "    </tr>\n",
       "    <tr>\n",
       "      <th>18</th>\n",
       "      <td>HR</td>\n",
       "      <td>Egészség</td>\n",
       "      <td>42456.0</td>\n",
       "    </tr>\n",
       "    <tr>\n",
       "      <th>19</th>\n",
       "      <td>Fejlesztés</td>\n",
       "      <td>MultilogIn</td>\n",
       "      <td>48392677.0</td>\n",
       "    </tr>\n",
       "    <tr>\n",
       "      <th>20</th>\n",
       "      <td>2. kat</td>\n",
       "      <td>Egyéb</td>\n",
       "      <td>61876305.0</td>\n",
       "    </tr>\n",
       "  </tbody>\n",
       "</table>\n",
       "</div>"
      ],
      "text/plain": [
       "          kategoria        alkategoria        netto\n",
       "0       Üzemeltetés            Cégautó   42182966.0\n",
       "1       Üzemeltetés              Iroda   30939633.0\n",
       "2       Üzemeltetés               Bank   28230665.0\n",
       "3       Üzemeltetés                 IT   13470025.0\n",
       "4       Üzemeltetés          Könyvitel    5935950.0\n",
       "5       Üzemeltetés     Jogi  segítség    3679912.0\n",
       "6       Üzemeltetés    Telekomunikáció    2683622.0\n",
       "7       Üzemeltetés          Telephely    2538646.0\n",
       "8           hiányos            hiányos    8372146.0\n",
       "9               Vám  Teljesítési segéd   21494797.0\n",
       "10  Szállítmányozás        Közvetített    3060211.0\n",
       "11       Raktározás         Berendezés    4733682.0\n",
       "12        Marketing             Honlap    2022734.0\n",
       "13        Marketing              Brand     964261.0\n",
       "14               HR                Bér  286576110.0\n",
       "15               HR       Továbbképzés    3557198.0\n",
       "16               HR           Juttatás    3554388.0\n",
       "17               HR           Toborzás     500000.0\n",
       "18               HR           Egészség      42456.0\n",
       "19       Fejlesztés         MultilogIn   48392677.0\n",
       "20           2. kat              Egyéb   61876305.0"
      ]
     },
     "execution_count": 12,
     "metadata": {},
     "output_type": "execute_result"
    }
   ],
   "source": [
    "df_categories = df_expense[['kategoria', 'alkategoria', 'netto']].groupby(['kategoria', 'alkategoria']).sum().sort_values(['kategoria', 'netto'], ascending=False).round(0).reset_index()\n",
    "\n",
    "df_subcategories = df_expense[['alkategoria', 'elem', 'netto']].groupby(['alkategoria', 'elem']).sum().sort_values(['alkategoria','netto'], ascending=False).round(0).reset_index()\n",
    "\n",
    "df_categories\n"
   ]
  },
  {
   "cell_type": "code",
   "execution_count": 13,
   "metadata": {},
   "outputs": [],
   "source": [
    "import plotly.express as px\n",
    "\n",
    "fig = px.bar(\n",
    "    df_categories,\n",
    "    x='netto',\n",
    "    y='kategoria',\n",
    "    color='alkategoria'\n",
    ")"
   ]
  },
  {
   "cell_type": "code",
   "execution_count": 14,
   "metadata": {},
   "outputs": [],
   "source": [
    "fig = px.bar(\n",
    "    df_subcategories,\n",
    "    x='netto',\n",
    "    y='alkategoria',\n",
    "    color='elem'\n",
    ")"
   ]
  },
  {
   "cell_type": "code",
   "execution_count": 15,
   "metadata": {},
   "outputs": [],
   "source": [
    "summ_category = df_expense[['kategoria', 'alkategoria', 'netto']].groupby('kategoria', as_index=False).sum().sort_values('netto',ascending=False)\n",
    "\n",
    "fig = px.pie(\n",
    "    summ_category,\n",
    "    'kategoria',\n",
    "    'netto'\n",
    ")"
   ]
  },
  {
   "cell_type": "code",
   "execution_count": 16,
   "metadata": {},
   "outputs": [],
   "source": [
    "df_item = df_expense[['kategoria', 'alkategoria', 'elem', 'netto']].groupby(['kategoria', 'alkategoria','elem']).sum().round(0).reset_index()\n",
    "\n",
    "fig = px.sunburst(\n",
    "    data_frame=df_item,\n",
    "    path=['kategoria', 'alkategoria', 'elem'],\n",
    "    values='netto',\n",
    "    color_discrete_sequence= px.colors.qualitative.T10\n",
    ")"
   ]
  },
  {
   "cell_type": "code",
   "execution_count": 30,
   "metadata": {},
   "outputs": [
    {
     "data": {
      "application/vnd.plotly.v1+json": {
       "config": {
        "plotlyServerURL": "https://plot.ly"
       },
       "data": [
        {
         "marker": {
          "color": "indianred"
         },
         "name": "Primary Product",
         "type": "bar",
         "x": [
          "Január",
          "Február",
          "Március",
          "Április",
          "Május",
          "Június",
          "Július",
          "Augusztus",
          "Szeptember",
          "Október",
          "November",
          "December"
         ],
         "y": [
          20,
          14,
          25,
          16,
          18,
          22,
          19,
          15,
          12,
          16,
          14,
          17
         ]
        },
        {
         "marker": {
          "color": "lightsalmon"
         },
         "name": "Secondary Product",
         "type": "bar",
         "x": [
          "Január",
          "Február",
          "Március",
          "Április",
          "Május",
          "Június",
          "Július",
          "Augusztus",
          "Szeptember",
          "Október",
          "November",
          "December"
         ],
         "y": [
          19,
          14,
          22,
          14,
          16,
          19,
          15,
          14,
          10,
          12,
          12,
          16
         ]
        }
       ],
       "layout": {
        "template": {
         "data": {
          "bar": [
           {
            "error_x": {
             "color": "#2a3f5f"
            },
            "error_y": {
             "color": "#2a3f5f"
            },
            "marker": {
             "line": {
              "color": "#E5ECF6",
              "width": 0.5
             },
             "pattern": {
              "fillmode": "overlay",
              "size": 10,
              "solidity": 0.2
             }
            },
            "type": "bar"
           }
          ],
          "barpolar": [
           {
            "marker": {
             "line": {
              "color": "#E5ECF6",
              "width": 0.5
             },
             "pattern": {
              "fillmode": "overlay",
              "size": 10,
              "solidity": 0.2
             }
            },
            "type": "barpolar"
           }
          ],
          "carpet": [
           {
            "aaxis": {
             "endlinecolor": "#2a3f5f",
             "gridcolor": "white",
             "linecolor": "white",
             "minorgridcolor": "white",
             "startlinecolor": "#2a3f5f"
            },
            "baxis": {
             "endlinecolor": "#2a3f5f",
             "gridcolor": "white",
             "linecolor": "white",
             "minorgridcolor": "white",
             "startlinecolor": "#2a3f5f"
            },
            "type": "carpet"
           }
          ],
          "choropleth": [
           {
            "colorbar": {
             "outlinewidth": 0,
             "ticks": ""
            },
            "type": "choropleth"
           }
          ],
          "contour": [
           {
            "colorbar": {
             "outlinewidth": 0,
             "ticks": ""
            },
            "colorscale": [
             [
              0,
              "#0d0887"
             ],
             [
              0.1111111111111111,
              "#46039f"
             ],
             [
              0.2222222222222222,
              "#7201a8"
             ],
             [
              0.3333333333333333,
              "#9c179e"
             ],
             [
              0.4444444444444444,
              "#bd3786"
             ],
             [
              0.5555555555555556,
              "#d8576b"
             ],
             [
              0.6666666666666666,
              "#ed7953"
             ],
             [
              0.7777777777777778,
              "#fb9f3a"
             ],
             [
              0.8888888888888888,
              "#fdca26"
             ],
             [
              1,
              "#f0f921"
             ]
            ],
            "type": "contour"
           }
          ],
          "contourcarpet": [
           {
            "colorbar": {
             "outlinewidth": 0,
             "ticks": ""
            },
            "type": "contourcarpet"
           }
          ],
          "heatmap": [
           {
            "colorbar": {
             "outlinewidth": 0,
             "ticks": ""
            },
            "colorscale": [
             [
              0,
              "#0d0887"
             ],
             [
              0.1111111111111111,
              "#46039f"
             ],
             [
              0.2222222222222222,
              "#7201a8"
             ],
             [
              0.3333333333333333,
              "#9c179e"
             ],
             [
              0.4444444444444444,
              "#bd3786"
             ],
             [
              0.5555555555555556,
              "#d8576b"
             ],
             [
              0.6666666666666666,
              "#ed7953"
             ],
             [
              0.7777777777777778,
              "#fb9f3a"
             ],
             [
              0.8888888888888888,
              "#fdca26"
             ],
             [
              1,
              "#f0f921"
             ]
            ],
            "type": "heatmap"
           }
          ],
          "heatmapgl": [
           {
            "colorbar": {
             "outlinewidth": 0,
             "ticks": ""
            },
            "colorscale": [
             [
              0,
              "#0d0887"
             ],
             [
              0.1111111111111111,
              "#46039f"
             ],
             [
              0.2222222222222222,
              "#7201a8"
             ],
             [
              0.3333333333333333,
              "#9c179e"
             ],
             [
              0.4444444444444444,
              "#bd3786"
             ],
             [
              0.5555555555555556,
              "#d8576b"
             ],
             [
              0.6666666666666666,
              "#ed7953"
             ],
             [
              0.7777777777777778,
              "#fb9f3a"
             ],
             [
              0.8888888888888888,
              "#fdca26"
             ],
             [
              1,
              "#f0f921"
             ]
            ],
            "type": "heatmapgl"
           }
          ],
          "histogram": [
           {
            "marker": {
             "pattern": {
              "fillmode": "overlay",
              "size": 10,
              "solidity": 0.2
             }
            },
            "type": "histogram"
           }
          ],
          "histogram2d": [
           {
            "colorbar": {
             "outlinewidth": 0,
             "ticks": ""
            },
            "colorscale": [
             [
              0,
              "#0d0887"
             ],
             [
              0.1111111111111111,
              "#46039f"
             ],
             [
              0.2222222222222222,
              "#7201a8"
             ],
             [
              0.3333333333333333,
              "#9c179e"
             ],
             [
              0.4444444444444444,
              "#bd3786"
             ],
             [
              0.5555555555555556,
              "#d8576b"
             ],
             [
              0.6666666666666666,
              "#ed7953"
             ],
             [
              0.7777777777777778,
              "#fb9f3a"
             ],
             [
              0.8888888888888888,
              "#fdca26"
             ],
             [
              1,
              "#f0f921"
             ]
            ],
            "type": "histogram2d"
           }
          ],
          "histogram2dcontour": [
           {
            "colorbar": {
             "outlinewidth": 0,
             "ticks": ""
            },
            "colorscale": [
             [
              0,
              "#0d0887"
             ],
             [
              0.1111111111111111,
              "#46039f"
             ],
             [
              0.2222222222222222,
              "#7201a8"
             ],
             [
              0.3333333333333333,
              "#9c179e"
             ],
             [
              0.4444444444444444,
              "#bd3786"
             ],
             [
              0.5555555555555556,
              "#d8576b"
             ],
             [
              0.6666666666666666,
              "#ed7953"
             ],
             [
              0.7777777777777778,
              "#fb9f3a"
             ],
             [
              0.8888888888888888,
              "#fdca26"
             ],
             [
              1,
              "#f0f921"
             ]
            ],
            "type": "histogram2dcontour"
           }
          ],
          "mesh3d": [
           {
            "colorbar": {
             "outlinewidth": 0,
             "ticks": ""
            },
            "type": "mesh3d"
           }
          ],
          "parcoords": [
           {
            "line": {
             "colorbar": {
              "outlinewidth": 0,
              "ticks": ""
             }
            },
            "type": "parcoords"
           }
          ],
          "pie": [
           {
            "automargin": true,
            "type": "pie"
           }
          ],
          "scatter": [
           {
            "fillpattern": {
             "fillmode": "overlay",
             "size": 10,
             "solidity": 0.2
            },
            "type": "scatter"
           }
          ],
          "scatter3d": [
           {
            "line": {
             "colorbar": {
              "outlinewidth": 0,
              "ticks": ""
             }
            },
            "marker": {
             "colorbar": {
              "outlinewidth": 0,
              "ticks": ""
             }
            },
            "type": "scatter3d"
           }
          ],
          "scattercarpet": [
           {
            "marker": {
             "colorbar": {
              "outlinewidth": 0,
              "ticks": ""
             }
            },
            "type": "scattercarpet"
           }
          ],
          "scattergeo": [
           {
            "marker": {
             "colorbar": {
              "outlinewidth": 0,
              "ticks": ""
             }
            },
            "type": "scattergeo"
           }
          ],
          "scattergl": [
           {
            "marker": {
             "colorbar": {
              "outlinewidth": 0,
              "ticks": ""
             }
            },
            "type": "scattergl"
           }
          ],
          "scattermapbox": [
           {
            "marker": {
             "colorbar": {
              "outlinewidth": 0,
              "ticks": ""
             }
            },
            "type": "scattermapbox"
           }
          ],
          "scatterpolar": [
           {
            "marker": {
             "colorbar": {
              "outlinewidth": 0,
              "ticks": ""
             }
            },
            "type": "scatterpolar"
           }
          ],
          "scatterpolargl": [
           {
            "marker": {
             "colorbar": {
              "outlinewidth": 0,
              "ticks": ""
             }
            },
            "type": "scatterpolargl"
           }
          ],
          "scatterternary": [
           {
            "marker": {
             "colorbar": {
              "outlinewidth": 0,
              "ticks": ""
             }
            },
            "type": "scatterternary"
           }
          ],
          "surface": [
           {
            "colorbar": {
             "outlinewidth": 0,
             "ticks": ""
            },
            "colorscale": [
             [
              0,
              "#0d0887"
             ],
             [
              0.1111111111111111,
              "#46039f"
             ],
             [
              0.2222222222222222,
              "#7201a8"
             ],
             [
              0.3333333333333333,
              "#9c179e"
             ],
             [
              0.4444444444444444,
              "#bd3786"
             ],
             [
              0.5555555555555556,
              "#d8576b"
             ],
             [
              0.6666666666666666,
              "#ed7953"
             ],
             [
              0.7777777777777778,
              "#fb9f3a"
             ],
             [
              0.8888888888888888,
              "#fdca26"
             ],
             [
              1,
              "#f0f921"
             ]
            ],
            "type": "surface"
           }
          ],
          "table": [
           {
            "cells": {
             "fill": {
              "color": "#EBF0F8"
             },
             "line": {
              "color": "white"
             }
            },
            "header": {
             "fill": {
              "color": "#C8D4E3"
             },
             "line": {
              "color": "white"
             }
            },
            "type": "table"
           }
          ]
         },
         "layout": {
          "annotationdefaults": {
           "arrowcolor": "#2a3f5f",
           "arrowhead": 0,
           "arrowwidth": 1
          },
          "autotypenumbers": "strict",
          "coloraxis": {
           "colorbar": {
            "outlinewidth": 0,
            "ticks": ""
           }
          },
          "colorscale": {
           "diverging": [
            [
             0,
             "#8e0152"
            ],
            [
             0.1,
             "#c51b7d"
            ],
            [
             0.2,
             "#de77ae"
            ],
            [
             0.3,
             "#f1b6da"
            ],
            [
             0.4,
             "#fde0ef"
            ],
            [
             0.5,
             "#f7f7f7"
            ],
            [
             0.6,
             "#e6f5d0"
            ],
            [
             0.7,
             "#b8e186"
            ],
            [
             0.8,
             "#7fbc41"
            ],
            [
             0.9,
             "#4d9221"
            ],
            [
             1,
             "#276419"
            ]
           ],
           "sequential": [
            [
             0,
             "#0d0887"
            ],
            [
             0.1111111111111111,
             "#46039f"
            ],
            [
             0.2222222222222222,
             "#7201a8"
            ],
            [
             0.3333333333333333,
             "#9c179e"
            ],
            [
             0.4444444444444444,
             "#bd3786"
            ],
            [
             0.5555555555555556,
             "#d8576b"
            ],
            [
             0.6666666666666666,
             "#ed7953"
            ],
            [
             0.7777777777777778,
             "#fb9f3a"
            ],
            [
             0.8888888888888888,
             "#fdca26"
            ],
            [
             1,
             "#f0f921"
            ]
           ],
           "sequentialminus": [
            [
             0,
             "#0d0887"
            ],
            [
             0.1111111111111111,
             "#46039f"
            ],
            [
             0.2222222222222222,
             "#7201a8"
            ],
            [
             0.3333333333333333,
             "#9c179e"
            ],
            [
             0.4444444444444444,
             "#bd3786"
            ],
            [
             0.5555555555555556,
             "#d8576b"
            ],
            [
             0.6666666666666666,
             "#ed7953"
            ],
            [
             0.7777777777777778,
             "#fb9f3a"
            ],
            [
             0.8888888888888888,
             "#fdca26"
            ],
            [
             1,
             "#f0f921"
            ]
           ]
          },
          "colorway": [
           "#636efa",
           "#EF553B",
           "#00cc96",
           "#ab63fa",
           "#FFA15A",
           "#19d3f3",
           "#FF6692",
           "#B6E880",
           "#FF97FF",
           "#FECB52"
          ],
          "font": {
           "color": "#2a3f5f"
          },
          "geo": {
           "bgcolor": "white",
           "lakecolor": "white",
           "landcolor": "#E5ECF6",
           "showlakes": true,
           "showland": true,
           "subunitcolor": "white"
          },
          "hoverlabel": {
           "align": "left"
          },
          "hovermode": "closest",
          "mapbox": {
           "style": "light"
          },
          "paper_bgcolor": "white",
          "plot_bgcolor": "#E5ECF6",
          "polar": {
           "angularaxis": {
            "gridcolor": "white",
            "linecolor": "white",
            "ticks": ""
           },
           "bgcolor": "#E5ECF6",
           "radialaxis": {
            "gridcolor": "white",
            "linecolor": "white",
            "ticks": ""
           }
          },
          "scene": {
           "xaxis": {
            "backgroundcolor": "#E5ECF6",
            "gridcolor": "white",
            "gridwidth": 2,
            "linecolor": "white",
            "showbackground": true,
            "ticks": "",
            "zerolinecolor": "white"
           },
           "yaxis": {
            "backgroundcolor": "#E5ECF6",
            "gridcolor": "white",
            "gridwidth": 2,
            "linecolor": "white",
            "showbackground": true,
            "ticks": "",
            "zerolinecolor": "white"
           },
           "zaxis": {
            "backgroundcolor": "#E5ECF6",
            "gridcolor": "white",
            "gridwidth": 2,
            "linecolor": "white",
            "showbackground": true,
            "ticks": "",
            "zerolinecolor": "white"
           }
          },
          "shapedefaults": {
           "line": {
            "color": "#2a3f5f"
           }
          },
          "ternary": {
           "aaxis": {
            "gridcolor": "white",
            "linecolor": "white",
            "ticks": ""
           },
           "baxis": {
            "gridcolor": "white",
            "linecolor": "white",
            "ticks": ""
           },
           "bgcolor": "#E5ECF6",
           "caxis": {
            "gridcolor": "white",
            "linecolor": "white",
            "ticks": ""
           }
          },
          "title": {
           "x": 0.05
          },
          "xaxis": {
           "automargin": true,
           "gridcolor": "white",
           "linecolor": "white",
           "ticks": "",
           "title": {
            "standoff": 15
           },
           "zerolinecolor": "white",
           "zerolinewidth": 2
          },
          "yaxis": {
           "automargin": true,
           "gridcolor": "white",
           "linecolor": "white",
           "ticks": "",
           "title": {
            "standoff": 15
           },
           "zerolinecolor": "white",
           "zerolinewidth": 2
          }
         }
        }
       }
      }
     },
     "metadata": {},
     "output_type": "display_data"
    }
   ],
   "source": [
    "import plotly.graph_objects as go\n",
    "\n",
    "comp_years = 2023\n",
    "\n",
    "comp_df = df_expense[['netto', 'year','month']].groupby(['year','month']).sum().reset_index()\n",
    "comp_df\n",
    "\n",
    "\n",
    "#month_names = { 1: 'Január', 2: 'Február', 3: 'Március', 4: 'Április', 5: 'Május', 6: 'Június', 7: 'Július', 8: 'Augusztus', 9: 'Szeptember', 10: 'Október', 11: 'November', 12: 'December'}\n",
    "months = ['Január','Február', 'Március', 'Április', 'Május', 'Június', 'Július', 'Augusztus', 'Szeptember',  'Október',  'November',  'December']\n",
    "\n",
    "fig = go.Figure()\n",
    "fig.add_trace(go.Bar(\n",
    "    x=months,\n",
    "    y=[20, 14, 25, 16, 18, 22, 19, 15, 12, 16, 14, 17],\n",
    "    name='Primary Product',\n",
    "    marker_color='indianred'\n",
    "))\n",
    "fig.add_trace(go.Bar(\n",
    "    x=months,\n",
    "    y=[19, 14, 22, 14, 16, 19, 15, 14, 10, 12, 12, 16],\n",
    "    name='Secondary Product',\n",
    "    marker_color='lightsalmon'\n",
    "))\n",
    "\n",
    "fig"
   ]
  },
  {
   "cell_type": "code",
   "execution_count": 31,
   "metadata": {},
   "outputs": [
    {
     "name": "stderr",
     "output_type": "stream",
     "text": [
      "2024-07-22 12:04:13.503 \n",
      "  \u001b[33m\u001b[1mWarning:\u001b[0m to view this Streamlit app on a browser, run it with the following\n",
      "  command:\n",
      "\n",
      "    streamlit run /opt/anaconda3/lib/python3.11/site-packages/ipykernel_launcher.py [ARGUMENTS]\n"
     ]
    },
    {
     "ename": "TypeError",
     "evalue": "datetime64 type does not support sum operations",
     "output_type": "error",
     "traceback": [
      "\u001b[0;31m---------------------------------------------------------------------------\u001b[0m",
      "\u001b[0;31mTypeError\u001b[0m                                 Traceback (most recent call last)",
      "Cell \u001b[0;32mIn[31], line 29\u001b[0m\n\u001b[1;32m     25\u001b[0m filtered_data \u001b[38;5;241m=\u001b[39m df[df[\u001b[38;5;124m'\u001b[39m\u001b[38;5;124myear\u001b[39m\u001b[38;5;124m'\u001b[39m]\u001b[38;5;241m.\u001b[39misin(selected_years)]\n\u001b[1;32m     27\u001b[0m \u001b[38;5;66;03m# Monthly comparison\u001b[39;00m\n\u001b[1;32m     28\u001b[0m \u001b[38;5;66;03m# st.header(\"Monthly Comparison\")\u001b[39;00m\n\u001b[0;32m---> 29\u001b[0m monthly_data \u001b[38;5;241m=\u001b[39m filtered_data\u001b[38;5;241m.\u001b[39mgroupby([\u001b[38;5;124m'\u001b[39m\u001b[38;5;124myear\u001b[39m\u001b[38;5;124m'\u001b[39m, \u001b[38;5;124m'\u001b[39m\u001b[38;5;124mmonth\u001b[39m\u001b[38;5;124m'\u001b[39m])\u001b[38;5;241m.\u001b[39msum()\u001b[38;5;241m.\u001b[39mreset_index()\n\u001b[1;32m     30\u001b[0m fig_monthly \u001b[38;5;241m=\u001b[39m px\u001b[38;5;241m.\u001b[39mbar(monthly_data, x\u001b[38;5;241m=\u001b[39m\u001b[38;5;124m'\u001b[39m\u001b[38;5;124mmonth\u001b[39m\u001b[38;5;124m'\u001b[39m, y\u001b[38;5;241m=\u001b[39m\u001b[38;5;124m'\u001b[39m\u001b[38;5;124mcost\u001b[39m\u001b[38;5;124m'\u001b[39m, color\u001b[38;5;241m=\u001b[39m\u001b[38;5;124m'\u001b[39m\u001b[38;5;124myear\u001b[39m\u001b[38;5;124m'\u001b[39m, barmode\u001b[38;5;241m=\u001b[39m\u001b[38;5;124m'\u001b[39m\u001b[38;5;124mgroup\u001b[39m\u001b[38;5;124m'\u001b[39m,\n\u001b[1;32m     31\u001b[0m                      labels\u001b[38;5;241m=\u001b[39m{\u001b[38;5;124m'\u001b[39m\u001b[38;5;124mmonth\u001b[39m\u001b[38;5;124m'\u001b[39m: \u001b[38;5;124m'\u001b[39m\u001b[38;5;124mMonth\u001b[39m\u001b[38;5;124m'\u001b[39m, \u001b[38;5;124m'\u001b[39m\u001b[38;5;124mcost\u001b[39m\u001b[38;5;124m'\u001b[39m: \u001b[38;5;124m'\u001b[39m\u001b[38;5;124mCost\u001b[39m\u001b[38;5;124m'\u001b[39m, \u001b[38;5;124m'\u001b[39m\u001b[38;5;124myear\u001b[39m\u001b[38;5;124m'\u001b[39m: \u001b[38;5;124m'\u001b[39m\u001b[38;5;124mYear\u001b[39m\u001b[38;5;124m'\u001b[39m},\n\u001b[1;32m     32\u001b[0m                      title\u001b[38;5;241m=\u001b[39m\u001b[38;5;124m\"\u001b[39m\u001b[38;5;124mMonthly Cost Comparison\u001b[39m\u001b[38;5;124m\"\u001b[39m)\n\u001b[1;32m     33\u001b[0m \u001b[38;5;28mprint\u001b[39m(fig_monthly)\n",
      "File \u001b[0;32m/opt/anaconda3/lib/python3.11/site-packages/pandas/core/groupby/groupby.py:3063\u001b[0m, in \u001b[0;36mGroupBy.sum\u001b[0;34m(self, numeric_only, min_count, engine, engine_kwargs)\u001b[0m\n\u001b[1;32m   3058\u001b[0m \u001b[38;5;28;01melse\u001b[39;00m:\n\u001b[1;32m   3059\u001b[0m     \u001b[38;5;66;03m# If we are grouping on categoricals we want unobserved categories to\u001b[39;00m\n\u001b[1;32m   3060\u001b[0m     \u001b[38;5;66;03m# return zero, rather than the default of NaN which the reindexing in\u001b[39;00m\n\u001b[1;32m   3061\u001b[0m     \u001b[38;5;66;03m# _agg_general() returns. GH #31422\u001b[39;00m\n\u001b[1;32m   3062\u001b[0m     \u001b[38;5;28;01mwith\u001b[39;00m com\u001b[38;5;241m.\u001b[39mtemp_setattr(\u001b[38;5;28mself\u001b[39m, \u001b[38;5;124m\"\u001b[39m\u001b[38;5;124mobserved\u001b[39m\u001b[38;5;124m\"\u001b[39m, \u001b[38;5;28;01mTrue\u001b[39;00m):\n\u001b[0;32m-> 3063\u001b[0m         result \u001b[38;5;241m=\u001b[39m \u001b[38;5;28mself\u001b[39m\u001b[38;5;241m.\u001b[39m_agg_general(\n\u001b[1;32m   3064\u001b[0m             numeric_only\u001b[38;5;241m=\u001b[39mnumeric_only,\n\u001b[1;32m   3065\u001b[0m             min_count\u001b[38;5;241m=\u001b[39mmin_count,\n\u001b[1;32m   3066\u001b[0m             alias\u001b[38;5;241m=\u001b[39m\u001b[38;5;124m\"\u001b[39m\u001b[38;5;124msum\u001b[39m\u001b[38;5;124m\"\u001b[39m,\n\u001b[1;32m   3067\u001b[0m             npfunc\u001b[38;5;241m=\u001b[39mnp\u001b[38;5;241m.\u001b[39msum,\n\u001b[1;32m   3068\u001b[0m         )\n\u001b[1;32m   3070\u001b[0m     \u001b[38;5;28;01mreturn\u001b[39;00m \u001b[38;5;28mself\u001b[39m\u001b[38;5;241m.\u001b[39m_reindex_output(result, fill_value\u001b[38;5;241m=\u001b[39m\u001b[38;5;241m0\u001b[39m)\n",
      "File \u001b[0;32m/opt/anaconda3/lib/python3.11/site-packages/pandas/core/groupby/groupby.py:1839\u001b[0m, in \u001b[0;36mGroupBy._agg_general\u001b[0;34m(self, numeric_only, min_count, alias, npfunc)\u001b[0m\n\u001b[1;32m   1830\u001b[0m \u001b[38;5;129m@final\u001b[39m\n\u001b[1;32m   1831\u001b[0m \u001b[38;5;28;01mdef\u001b[39;00m \u001b[38;5;21m_agg_general\u001b[39m(\n\u001b[1;32m   1832\u001b[0m     \u001b[38;5;28mself\u001b[39m,\n\u001b[0;32m   (...)\u001b[0m\n\u001b[1;32m   1837\u001b[0m     npfunc: Callable,\n\u001b[1;32m   1838\u001b[0m ):\n\u001b[0;32m-> 1839\u001b[0m     result \u001b[38;5;241m=\u001b[39m \u001b[38;5;28mself\u001b[39m\u001b[38;5;241m.\u001b[39m_cython_agg_general(\n\u001b[1;32m   1840\u001b[0m         how\u001b[38;5;241m=\u001b[39malias,\n\u001b[1;32m   1841\u001b[0m         alt\u001b[38;5;241m=\u001b[39mnpfunc,\n\u001b[1;32m   1842\u001b[0m         numeric_only\u001b[38;5;241m=\u001b[39mnumeric_only,\n\u001b[1;32m   1843\u001b[0m         min_count\u001b[38;5;241m=\u001b[39mmin_count,\n\u001b[1;32m   1844\u001b[0m     )\n\u001b[1;32m   1845\u001b[0m     \u001b[38;5;28;01mreturn\u001b[39;00m result\u001b[38;5;241m.\u001b[39m__finalize__(\u001b[38;5;28mself\u001b[39m\u001b[38;5;241m.\u001b[39mobj, method\u001b[38;5;241m=\u001b[39m\u001b[38;5;124m\"\u001b[39m\u001b[38;5;124mgroupby\u001b[39m\u001b[38;5;124m\"\u001b[39m)\n",
      "File \u001b[0;32m/opt/anaconda3/lib/python3.11/site-packages/pandas/core/groupby/groupby.py:1929\u001b[0m, in \u001b[0;36mGroupBy._cython_agg_general\u001b[0;34m(self, how, alt, numeric_only, min_count, **kwargs)\u001b[0m\n\u001b[1;32m   1926\u001b[0m     result \u001b[38;5;241m=\u001b[39m \u001b[38;5;28mself\u001b[39m\u001b[38;5;241m.\u001b[39m_agg_py_fallback(how, values, ndim\u001b[38;5;241m=\u001b[39mdata\u001b[38;5;241m.\u001b[39mndim, alt\u001b[38;5;241m=\u001b[39malt)\n\u001b[1;32m   1927\u001b[0m     \u001b[38;5;28;01mreturn\u001b[39;00m result\n\u001b[0;32m-> 1929\u001b[0m new_mgr \u001b[38;5;241m=\u001b[39m data\u001b[38;5;241m.\u001b[39mgrouped_reduce(array_func)\n\u001b[1;32m   1930\u001b[0m res \u001b[38;5;241m=\u001b[39m \u001b[38;5;28mself\u001b[39m\u001b[38;5;241m.\u001b[39m_wrap_agged_manager(new_mgr)\n\u001b[1;32m   1931\u001b[0m out \u001b[38;5;241m=\u001b[39m \u001b[38;5;28mself\u001b[39m\u001b[38;5;241m.\u001b[39m_wrap_aggregated_output(res)\n",
      "File \u001b[0;32m/opt/anaconda3/lib/python3.11/site-packages/pandas/core/internals/managers.py:1431\u001b[0m, in \u001b[0;36mBlockManager.grouped_reduce\u001b[0;34m(self, func)\u001b[0m\n\u001b[1;32m   1429\u001b[0m             result_blocks \u001b[38;5;241m=\u001b[39m extend_blocks(applied, result_blocks)\n\u001b[1;32m   1430\u001b[0m     \u001b[38;5;28;01melse\u001b[39;00m:\n\u001b[0;32m-> 1431\u001b[0m         applied \u001b[38;5;241m=\u001b[39m blk\u001b[38;5;241m.\u001b[39mapply(func)\n\u001b[1;32m   1432\u001b[0m         result_blocks \u001b[38;5;241m=\u001b[39m extend_blocks(applied, result_blocks)\n\u001b[1;32m   1434\u001b[0m \u001b[38;5;28;01mif\u001b[39;00m \u001b[38;5;28mlen\u001b[39m(result_blocks) \u001b[38;5;241m==\u001b[39m \u001b[38;5;241m0\u001b[39m:\n",
      "File \u001b[0;32m/opt/anaconda3/lib/python3.11/site-packages/pandas/core/internals/blocks.py:366\u001b[0m, in \u001b[0;36mBlock.apply\u001b[0;34m(self, func, **kwargs)\u001b[0m\n\u001b[1;32m    360\u001b[0m \u001b[38;5;129m@final\u001b[39m\n\u001b[1;32m    361\u001b[0m \u001b[38;5;28;01mdef\u001b[39;00m \u001b[38;5;21mapply\u001b[39m(\u001b[38;5;28mself\u001b[39m, func, \u001b[38;5;241m*\u001b[39m\u001b[38;5;241m*\u001b[39mkwargs) \u001b[38;5;241m-\u001b[39m\u001b[38;5;241m>\u001b[39m \u001b[38;5;28mlist\u001b[39m[Block]:\n\u001b[1;32m    362\u001b[0m \u001b[38;5;250m    \u001b[39m\u001b[38;5;124;03m\"\"\"\u001b[39;00m\n\u001b[1;32m    363\u001b[0m \u001b[38;5;124;03m    apply the function to my values; return a block if we are not\u001b[39;00m\n\u001b[1;32m    364\u001b[0m \u001b[38;5;124;03m    one\u001b[39;00m\n\u001b[1;32m    365\u001b[0m \u001b[38;5;124;03m    \"\"\"\u001b[39;00m\n\u001b[0;32m--> 366\u001b[0m     result \u001b[38;5;241m=\u001b[39m func(\u001b[38;5;28mself\u001b[39m\u001b[38;5;241m.\u001b[39mvalues, \u001b[38;5;241m*\u001b[39m\u001b[38;5;241m*\u001b[39mkwargs)\n\u001b[1;32m    368\u001b[0m     result \u001b[38;5;241m=\u001b[39m maybe_coerce_values(result)\n\u001b[1;32m    369\u001b[0m     \u001b[38;5;28;01mreturn\u001b[39;00m \u001b[38;5;28mself\u001b[39m\u001b[38;5;241m.\u001b[39m_split_op_result(result)\n",
      "File \u001b[0;32m/opt/anaconda3/lib/python3.11/site-packages/pandas/core/groupby/groupby.py:1905\u001b[0m, in \u001b[0;36mGroupBy._cython_agg_general.<locals>.array_func\u001b[0;34m(values)\u001b[0m\n\u001b[1;32m   1903\u001b[0m \u001b[38;5;28;01mdef\u001b[39;00m \u001b[38;5;21marray_func\u001b[39m(values: ArrayLike) \u001b[38;5;241m-\u001b[39m\u001b[38;5;241m>\u001b[39m ArrayLike:\n\u001b[1;32m   1904\u001b[0m     \u001b[38;5;28;01mtry\u001b[39;00m:\n\u001b[0;32m-> 1905\u001b[0m         result \u001b[38;5;241m=\u001b[39m \u001b[38;5;28mself\u001b[39m\u001b[38;5;241m.\u001b[39mgrouper\u001b[38;5;241m.\u001b[39m_cython_operation(\n\u001b[1;32m   1906\u001b[0m             \u001b[38;5;124m\"\u001b[39m\u001b[38;5;124maggregate\u001b[39m\u001b[38;5;124m\"\u001b[39m,\n\u001b[1;32m   1907\u001b[0m             values,\n\u001b[1;32m   1908\u001b[0m             how,\n\u001b[1;32m   1909\u001b[0m             axis\u001b[38;5;241m=\u001b[39mdata\u001b[38;5;241m.\u001b[39mndim \u001b[38;5;241m-\u001b[39m \u001b[38;5;241m1\u001b[39m,\n\u001b[1;32m   1910\u001b[0m             min_count\u001b[38;5;241m=\u001b[39mmin_count,\n\u001b[1;32m   1911\u001b[0m             \u001b[38;5;241m*\u001b[39m\u001b[38;5;241m*\u001b[39mkwargs,\n\u001b[1;32m   1912\u001b[0m         )\n\u001b[1;32m   1913\u001b[0m     \u001b[38;5;28;01mexcept\u001b[39;00m \u001b[38;5;167;01mNotImplementedError\u001b[39;00m:\n\u001b[1;32m   1914\u001b[0m         \u001b[38;5;66;03m# generally if we have numeric_only=False\u001b[39;00m\n\u001b[1;32m   1915\u001b[0m         \u001b[38;5;66;03m# and non-applicable functions\u001b[39;00m\n\u001b[1;32m   1916\u001b[0m         \u001b[38;5;66;03m# try to python agg\u001b[39;00m\n\u001b[1;32m   1917\u001b[0m         \u001b[38;5;66;03m# TODO: shouldn't min_count matter?\u001b[39;00m\n\u001b[1;32m   1918\u001b[0m         \u001b[38;5;66;03m# TODO: avoid special casing SparseArray here\u001b[39;00m\n\u001b[1;32m   1919\u001b[0m         \u001b[38;5;28;01mif\u001b[39;00m how \u001b[38;5;129;01min\u001b[39;00m [\u001b[38;5;124m\"\u001b[39m\u001b[38;5;124many\u001b[39m\u001b[38;5;124m\"\u001b[39m, \u001b[38;5;124m\"\u001b[39m\u001b[38;5;124mall\u001b[39m\u001b[38;5;124m\"\u001b[39m] \u001b[38;5;129;01mand\u001b[39;00m \u001b[38;5;28misinstance\u001b[39m(values, SparseArray):\n",
      "File \u001b[0;32m/opt/anaconda3/lib/python3.11/site-packages/pandas/core/groupby/ops.py:816\u001b[0m, in \u001b[0;36mBaseGrouper._cython_operation\u001b[0;34m(self, kind, values, how, axis, min_count, **kwargs)\u001b[0m\n\u001b[1;32m    814\u001b[0m ids, _, _ \u001b[38;5;241m=\u001b[39m \u001b[38;5;28mself\u001b[39m\u001b[38;5;241m.\u001b[39mgroup_info\n\u001b[1;32m    815\u001b[0m ngroups \u001b[38;5;241m=\u001b[39m \u001b[38;5;28mself\u001b[39m\u001b[38;5;241m.\u001b[39mngroups\n\u001b[0;32m--> 816\u001b[0m \u001b[38;5;28;01mreturn\u001b[39;00m cy_op\u001b[38;5;241m.\u001b[39mcython_operation(\n\u001b[1;32m    817\u001b[0m     values\u001b[38;5;241m=\u001b[39mvalues,\n\u001b[1;32m    818\u001b[0m     axis\u001b[38;5;241m=\u001b[39maxis,\n\u001b[1;32m    819\u001b[0m     min_count\u001b[38;5;241m=\u001b[39mmin_count,\n\u001b[1;32m    820\u001b[0m     comp_ids\u001b[38;5;241m=\u001b[39mids,\n\u001b[1;32m    821\u001b[0m     ngroups\u001b[38;5;241m=\u001b[39mngroups,\n\u001b[1;32m    822\u001b[0m     \u001b[38;5;241m*\u001b[39m\u001b[38;5;241m*\u001b[39mkwargs,\n\u001b[1;32m    823\u001b[0m )\n",
      "File \u001b[0;32m/opt/anaconda3/lib/python3.11/site-packages/pandas/core/groupby/ops.py:526\u001b[0m, in \u001b[0;36mWrappedCythonOp.cython_operation\u001b[0;34m(self, values, axis, min_count, comp_ids, ngroups, **kwargs)\u001b[0m\n\u001b[1;32m    522\u001b[0m \u001b[38;5;28mself\u001b[39m\u001b[38;5;241m.\u001b[39m_validate_axis(axis, values)\n\u001b[1;32m    524\u001b[0m \u001b[38;5;28;01mif\u001b[39;00m \u001b[38;5;129;01mnot\u001b[39;00m \u001b[38;5;28misinstance\u001b[39m(values, np\u001b[38;5;241m.\u001b[39mndarray):\n\u001b[1;32m    525\u001b[0m     \u001b[38;5;66;03m# i.e. ExtensionArray\u001b[39;00m\n\u001b[0;32m--> 526\u001b[0m     \u001b[38;5;28;01mreturn\u001b[39;00m values\u001b[38;5;241m.\u001b[39m_groupby_op(\n\u001b[1;32m    527\u001b[0m         how\u001b[38;5;241m=\u001b[39m\u001b[38;5;28mself\u001b[39m\u001b[38;5;241m.\u001b[39mhow,\n\u001b[1;32m    528\u001b[0m         has_dropped_na\u001b[38;5;241m=\u001b[39m\u001b[38;5;28mself\u001b[39m\u001b[38;5;241m.\u001b[39mhas_dropped_na,\n\u001b[1;32m    529\u001b[0m         min_count\u001b[38;5;241m=\u001b[39mmin_count,\n\u001b[1;32m    530\u001b[0m         ngroups\u001b[38;5;241m=\u001b[39mngroups,\n\u001b[1;32m    531\u001b[0m         ids\u001b[38;5;241m=\u001b[39mcomp_ids,\n\u001b[1;32m    532\u001b[0m         \u001b[38;5;241m*\u001b[39m\u001b[38;5;241m*\u001b[39mkwargs,\n\u001b[1;32m    533\u001b[0m     )\n\u001b[1;32m    535\u001b[0m \u001b[38;5;28;01mreturn\u001b[39;00m \u001b[38;5;28mself\u001b[39m\u001b[38;5;241m.\u001b[39m_cython_op_ndim_compat(\n\u001b[1;32m    536\u001b[0m     values,\n\u001b[1;32m    537\u001b[0m     min_count\u001b[38;5;241m=\u001b[39mmin_count,\n\u001b[0;32m   (...)\u001b[0m\n\u001b[1;32m    541\u001b[0m     \u001b[38;5;241m*\u001b[39m\u001b[38;5;241m*\u001b[39mkwargs,\n\u001b[1;32m    542\u001b[0m )\n",
      "File \u001b[0;32m/opt/anaconda3/lib/python3.11/site-packages/pandas/core/arrays/datetimelike.py:1637\u001b[0m, in \u001b[0;36mDatetimeLikeArrayMixin._groupby_op\u001b[0;34m(self, how, has_dropped_na, min_count, ngroups, ids, **kwargs)\u001b[0m\n\u001b[1;32m   1634\u001b[0m \u001b[38;5;28;01mif\u001b[39;00m dtype\u001b[38;5;241m.\u001b[39mkind \u001b[38;5;241m==\u001b[39m \u001b[38;5;124m\"\u001b[39m\u001b[38;5;124mM\u001b[39m\u001b[38;5;124m\"\u001b[39m:\n\u001b[1;32m   1635\u001b[0m     \u001b[38;5;66;03m# Adding/multiplying datetimes is not valid\u001b[39;00m\n\u001b[1;32m   1636\u001b[0m     \u001b[38;5;28;01mif\u001b[39;00m how \u001b[38;5;129;01min\u001b[39;00m [\u001b[38;5;124m\"\u001b[39m\u001b[38;5;124msum\u001b[39m\u001b[38;5;124m\"\u001b[39m, \u001b[38;5;124m\"\u001b[39m\u001b[38;5;124mprod\u001b[39m\u001b[38;5;124m\"\u001b[39m, \u001b[38;5;124m\"\u001b[39m\u001b[38;5;124mcumsum\u001b[39m\u001b[38;5;124m\"\u001b[39m, \u001b[38;5;124m\"\u001b[39m\u001b[38;5;124mcumprod\u001b[39m\u001b[38;5;124m\"\u001b[39m, \u001b[38;5;124m\"\u001b[39m\u001b[38;5;124mvar\u001b[39m\u001b[38;5;124m\"\u001b[39m, \u001b[38;5;124m\"\u001b[39m\u001b[38;5;124mskew\u001b[39m\u001b[38;5;124m\"\u001b[39m]:\n\u001b[0;32m-> 1637\u001b[0m         \u001b[38;5;28;01mraise\u001b[39;00m \u001b[38;5;167;01mTypeError\u001b[39;00m(\u001b[38;5;124mf\u001b[39m\u001b[38;5;124m\"\u001b[39m\u001b[38;5;124mdatetime64 type does not support \u001b[39m\u001b[38;5;132;01m{\u001b[39;00mhow\u001b[38;5;132;01m}\u001b[39;00m\u001b[38;5;124m operations\u001b[39m\u001b[38;5;124m\"\u001b[39m)\n\u001b[1;32m   1638\u001b[0m     \u001b[38;5;28;01mif\u001b[39;00m how \u001b[38;5;129;01min\u001b[39;00m [\u001b[38;5;124m\"\u001b[39m\u001b[38;5;124many\u001b[39m\u001b[38;5;124m\"\u001b[39m, \u001b[38;5;124m\"\u001b[39m\u001b[38;5;124mall\u001b[39m\u001b[38;5;124m\"\u001b[39m]:\n\u001b[1;32m   1639\u001b[0m         \u001b[38;5;66;03m# GH#34479\u001b[39;00m\n\u001b[1;32m   1640\u001b[0m         warnings\u001b[38;5;241m.\u001b[39mwarn(\n\u001b[1;32m   1641\u001b[0m             \u001b[38;5;124mf\u001b[39m\u001b[38;5;124m\"\u001b[39m\u001b[38;5;124m'\u001b[39m\u001b[38;5;132;01m{\u001b[39;00mhow\u001b[38;5;132;01m}\u001b[39;00m\u001b[38;5;124m'\u001b[39m\u001b[38;5;124m with datetime64 dtypes is deprecated and will raise in a \u001b[39m\u001b[38;5;124m\"\u001b[39m\n\u001b[1;32m   1642\u001b[0m             \u001b[38;5;124mf\u001b[39m\u001b[38;5;124m\"\u001b[39m\u001b[38;5;124mfuture version. Use (obj != pd.Timestamp(0)).\u001b[39m\u001b[38;5;132;01m{\u001b[39;00mhow\u001b[38;5;132;01m}\u001b[39;00m\u001b[38;5;124m() instead.\u001b[39m\u001b[38;5;124m\"\u001b[39m,\n\u001b[1;32m   1643\u001b[0m             \u001b[38;5;167;01mFutureWarning\u001b[39;00m,\n\u001b[1;32m   1644\u001b[0m             stacklevel\u001b[38;5;241m=\u001b[39mfind_stack_level(),\n\u001b[1;32m   1645\u001b[0m         )\n",
      "\u001b[0;31mTypeError\u001b[0m: datetime64 type does not support sum operations"
     ]
    }
   ],
   "source": [
    "import streamlit as st\n",
    "import plotly.express as px\n",
    "import pandas as pd\n",
    "import numpy as np\n",
    "\n",
    "# Sample data creation (Replace this with your actual data loading)\n",
    "data = {\n",
    "    'date': pd.date_range(start='1/1/2020', periods=100, freq='M'),\n",
    "    'cost': np.random.rand(100) * 1000\n",
    "}\n",
    "df = pd.DataFrame(data)\n",
    "df['year'] = df['date'].dt.year\n",
    "df['month'] = df['date'].dt.month\n",
    "df['quarter'] = df['date'].dt.quarter\n",
    "df['month_period'] = df['date'].dt.to_period('M')\n",
    "\n",
    "# Streamlit app\n",
    "#st.title(\"Financial Data Visualization\")\n",
    "\n",
    "# Year selection\n",
    "years = df['year'].unique().tolist()\n",
    "selected_years = st.multiselect('Select years to compare', years, default=years)\n",
    "\n",
    "# Filter data based on selected years\n",
    "filtered_data = df[df['year'].isin(selected_years)]\n",
    "\n",
    "# Monthly comparison\n",
    "# st.header(\"Monthly Comparison\")\n",
    "monthly_data = filtered_data.groupby(['year', 'month']).sum().reset_index()\n",
    "fig_monthly = px.bar(monthly_data, x='month', y='cost', color='year', barmode='group',\n",
    "                     labels={'month': 'Month', 'cost': 'Cost', 'year': 'Year'},\n",
    "                     title=\"Monthly Cost Comparison\")\n",
    "print(fig_monthly)\n",
    "\n",
    "# Quarterly comparison\n",
    "#st.header(\"Quarterly Comparison\")\n",
    "quarterly_data = filtered_data.groupby(['year', 'quarter']).sum().reset_index()\n",
    "fig_quarterly = px.bar(quarterly_data, x='quarter', y='cost', color='year', barmode='group',\n",
    "                       labels={'quarter': 'Quarter', 'cost': 'Cost', 'year': 'Year'},\n",
    "                       title=\"Quarterly Cost Comparison\")\n",
    "print(fig_quarterly)"
   ]
  }
 ],
 "metadata": {
  "kernelspec": {
   "display_name": "base",
   "language": "python",
   "name": "python3"
  },
  "language_info": {
   "codemirror_mode": {
    "name": "ipython",
    "version": 3
   },
   "file_extension": ".py",
   "mimetype": "text/x-python",
   "name": "python",
   "nbconvert_exporter": "python",
   "pygments_lexer": "ipython3",
   "version": "3.11.9"
  }
 },
 "nbformat": 4,
 "nbformat_minor": 2
}
